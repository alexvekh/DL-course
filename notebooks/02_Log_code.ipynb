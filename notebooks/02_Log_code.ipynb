{
  "cells": [
    {
      "cell_type": "markdown",
      "id": "2bea5e27",
      "metadata": {
        "id": "2bea5e27"
      },
      "source": [
        "<h1 style=\"text-align: center;\">Module 1. Structured data processing using neural networks\n",
        "</h1>\n",
        "<h2 style=\"text-align: center;\">Topic 2. Logistic regression. Artificial neuron</h2>"
      ]
    },
    {
      "cell_type": "code",
      "execution_count": 1,
      "id": "3bc12165",
      "metadata": {
        "ExecuteTime": {
          "end_time": "2024-08-26T10:49:35.401995800Z",
          "start_time": "2024-08-26T10:49:32.811219700Z"
        },
        "id": "3bc12165"
      },
      "outputs": [],
      "source": [
        "import numpy as np\n",
        "import pandas as pd\n",
        "import matplotlib.pyplot as plt\n",
        "\n",
        "from sklearn.impute import SimpleImputer\n",
        "from sklearn.model_selection import train_test_split\n",
        "\n",
        "import warnings\n",
        "# filter warnings\n",
        "warnings.filterwarnings('ignore')\n",
        "\n",
        "# from google.colab import drive\n",
        "# drive.mount('/content/drive')"
      ]
    },
    {
      "cell_type": "markdown",
      "id": "637cc41c",
      "metadata": {
        "id": "637cc41c"
      },
      "source": [
        "## Dataset owerview"
      ]
    },
    {
      "cell_type": "markdown",
      "id": "ca655494",
      "metadata": {
        "id": "ca655494"
      },
      "source": [
        "[Spaceship Titanic dataset](https://www.kaggle.com/competitions/spaceship-titanic/overview)\n",
        "\n",
        "**Data Field Description:**\n",
        "* `PassengerId` - A unique Id for each passenger. Each Id takes the form gggg_pp where gggg indicates a group the passenger is travelling with and pp is their number within the group. People in a group are often family members, but not always.\n",
        "* `HomePlanet` - The planet the passenger departed from, typically their planet of permanent residence.\n",
        "* `CryoSleep` - Indicates whether the passenger elected to be put into suspended animation for the duration of the voyage. Passengers in cryosleep are confined to their cabins.\n",
        "* `Cabin` - The cabin number where the passenger is staying. Takes the form deck/num/side, where side can be either P for Port or S for Starboard.\n",
        "* `Destination` - The planet the passenger will be debarking to.\n",
        "* `Age` - The age of the passenger.\n",
        "* `VIP` - Whether the passenger has paid for special VIP service during the voyage.\n",
        "* `RoomService`, `FoodCourt`, `ShoppingMall`, `Spa`, `VRDeck` - Amount the passenger has billed at each of the Spaceship Titanic's many luxury amenities.\n",
        "* `Name` - The first and last names of the passenger.\n",
        "* `Transported` - Whether the passenger was transported to another dimension. This is the target, the column you are trying to predict."
      ]
    },
    {
      "cell_type": "markdown",
      "id": "9e2b4ac9",
      "metadata": {
        "id": "9e2b4ac9"
      },
      "source": [
        "## Exploratory Data Analysis"
      ]
    },
    {
      "cell_type": "code",
      "execution_count": 2,
      "id": "d85d4b3e",
      "metadata": {
        "ExecuteTime": {
          "end_time": "2024-08-26T10:49:50.724334Z",
          "start_time": "2024-08-26T10:49:50.645229100Z"
        },
        "id": "d85d4b3e"
      },
      "outputs": [],
      "source": [
        "# Reading data\n",
        "# url = '/content/drive/MyDrive/ds/spaceship-titanic/train.csv'\n",
        "url = 'https://raw.githubusercontent.com/alexvekh/DL-course/main/data/Module_1_Lecture_2_Class_Spaceship_Titanic.csv'\n",
        "df = pd.read_csv(url)\n",
        "\n",
        "df = df.set_index('PassengerId')"
      ]
    },
    {
      "cell_type": "code",
      "execution_count": 3,
      "id": "426ed594",
      "metadata": {
        "scrolled": true,
        "ExecuteTime": {
          "end_time": "2024-08-26T10:53:03.738427300Z",
          "start_time": "2024-08-26T10:53:03.697743400Z"
        },
        "colab": {
          "base_uri": "https://localhost:8080/",
          "height": 237
        },
        "id": "426ed594",
        "outputId": "f0001249-c709-4fac-a654-9ccb4a96c666"
      },
      "outputs": [
        {
          "output_type": "execute_result",
          "data": {
            "text/plain": [
              "            HomePlanet CryoSleep  Cabin  Destination   Age    VIP  \\\n",
              "PassengerId                                                         \n",
              "0001_01         Europa     False  B/0/P  TRAPPIST-1e  39.0  False   \n",
              "0002_01          Earth     False  F/0/S  TRAPPIST-1e  24.0  False   \n",
              "0003_01         Europa     False  A/0/S  TRAPPIST-1e  58.0   True   \n",
              "0003_02         Europa     False  A/0/S  TRAPPIST-1e  33.0  False   \n",
              "0004_01          Earth     False  F/1/S  TRAPPIST-1e  16.0  False   \n",
              "\n",
              "             RoomService  FoodCourt  ShoppingMall     Spa  VRDeck  \\\n",
              "PassengerId                                                         \n",
              "0001_01              0.0        0.0           0.0     0.0     0.0   \n",
              "0002_01            109.0        9.0          25.0   549.0    44.0   \n",
              "0003_01             43.0     3576.0           0.0  6715.0    49.0   \n",
              "0003_02              0.0     1283.0         371.0  3329.0   193.0   \n",
              "0004_01            303.0       70.0         151.0   565.0     2.0   \n",
              "\n",
              "                          Name  Transported  \n",
              "PassengerId                                  \n",
              "0001_01        Maham Ofracculy        False  \n",
              "0002_01           Juanna Vines         True  \n",
              "0003_01          Altark Susent        False  \n",
              "0003_02           Solam Susent        False  \n",
              "0004_01      Willy Santantines         True  "
            ],
            "text/html": [
              "\n",
              "  <div id=\"df-b21915f0-e9b7-41ce-afd7-47c27e8a722a\" class=\"colab-df-container\">\n",
              "    <div>\n",
              "<style scoped>\n",
              "    .dataframe tbody tr th:only-of-type {\n",
              "        vertical-align: middle;\n",
              "    }\n",
              "\n",
              "    .dataframe tbody tr th {\n",
              "        vertical-align: top;\n",
              "    }\n",
              "\n",
              "    .dataframe thead th {\n",
              "        text-align: right;\n",
              "    }\n",
              "</style>\n",
              "<table border=\"1\" class=\"dataframe\">\n",
              "  <thead>\n",
              "    <tr style=\"text-align: right;\">\n",
              "      <th></th>\n",
              "      <th>HomePlanet</th>\n",
              "      <th>CryoSleep</th>\n",
              "      <th>Cabin</th>\n",
              "      <th>Destination</th>\n",
              "      <th>Age</th>\n",
              "      <th>VIP</th>\n",
              "      <th>RoomService</th>\n",
              "      <th>FoodCourt</th>\n",
              "      <th>ShoppingMall</th>\n",
              "      <th>Spa</th>\n",
              "      <th>VRDeck</th>\n",
              "      <th>Name</th>\n",
              "      <th>Transported</th>\n",
              "    </tr>\n",
              "    <tr>\n",
              "      <th>PassengerId</th>\n",
              "      <th></th>\n",
              "      <th></th>\n",
              "      <th></th>\n",
              "      <th></th>\n",
              "      <th></th>\n",
              "      <th></th>\n",
              "      <th></th>\n",
              "      <th></th>\n",
              "      <th></th>\n",
              "      <th></th>\n",
              "      <th></th>\n",
              "      <th></th>\n",
              "      <th></th>\n",
              "    </tr>\n",
              "  </thead>\n",
              "  <tbody>\n",
              "    <tr>\n",
              "      <th>0001_01</th>\n",
              "      <td>Europa</td>\n",
              "      <td>False</td>\n",
              "      <td>B/0/P</td>\n",
              "      <td>TRAPPIST-1e</td>\n",
              "      <td>39.0</td>\n",
              "      <td>False</td>\n",
              "      <td>0.0</td>\n",
              "      <td>0.0</td>\n",
              "      <td>0.0</td>\n",
              "      <td>0.0</td>\n",
              "      <td>0.0</td>\n",
              "      <td>Maham Ofracculy</td>\n",
              "      <td>False</td>\n",
              "    </tr>\n",
              "    <tr>\n",
              "      <th>0002_01</th>\n",
              "      <td>Earth</td>\n",
              "      <td>False</td>\n",
              "      <td>F/0/S</td>\n",
              "      <td>TRAPPIST-1e</td>\n",
              "      <td>24.0</td>\n",
              "      <td>False</td>\n",
              "      <td>109.0</td>\n",
              "      <td>9.0</td>\n",
              "      <td>25.0</td>\n",
              "      <td>549.0</td>\n",
              "      <td>44.0</td>\n",
              "      <td>Juanna Vines</td>\n",
              "      <td>True</td>\n",
              "    </tr>\n",
              "    <tr>\n",
              "      <th>0003_01</th>\n",
              "      <td>Europa</td>\n",
              "      <td>False</td>\n",
              "      <td>A/0/S</td>\n",
              "      <td>TRAPPIST-1e</td>\n",
              "      <td>58.0</td>\n",
              "      <td>True</td>\n",
              "      <td>43.0</td>\n",
              "      <td>3576.0</td>\n",
              "      <td>0.0</td>\n",
              "      <td>6715.0</td>\n",
              "      <td>49.0</td>\n",
              "      <td>Altark Susent</td>\n",
              "      <td>False</td>\n",
              "    </tr>\n",
              "    <tr>\n",
              "      <th>0003_02</th>\n",
              "      <td>Europa</td>\n",
              "      <td>False</td>\n",
              "      <td>A/0/S</td>\n",
              "      <td>TRAPPIST-1e</td>\n",
              "      <td>33.0</td>\n",
              "      <td>False</td>\n",
              "      <td>0.0</td>\n",
              "      <td>1283.0</td>\n",
              "      <td>371.0</td>\n",
              "      <td>3329.0</td>\n",
              "      <td>193.0</td>\n",
              "      <td>Solam Susent</td>\n",
              "      <td>False</td>\n",
              "    </tr>\n",
              "    <tr>\n",
              "      <th>0004_01</th>\n",
              "      <td>Earth</td>\n",
              "      <td>False</td>\n",
              "      <td>F/1/S</td>\n",
              "      <td>TRAPPIST-1e</td>\n",
              "      <td>16.0</td>\n",
              "      <td>False</td>\n",
              "      <td>303.0</td>\n",
              "      <td>70.0</td>\n",
              "      <td>151.0</td>\n",
              "      <td>565.0</td>\n",
              "      <td>2.0</td>\n",
              "      <td>Willy Santantines</td>\n",
              "      <td>True</td>\n",
              "    </tr>\n",
              "  </tbody>\n",
              "</table>\n",
              "</div>\n",
              "    <div class=\"colab-df-buttons\">\n",
              "\n",
              "  <div class=\"colab-df-container\">\n",
              "    <button class=\"colab-df-convert\" onclick=\"convertToInteractive('df-b21915f0-e9b7-41ce-afd7-47c27e8a722a')\"\n",
              "            title=\"Convert this dataframe to an interactive table.\"\n",
              "            style=\"display:none;\">\n",
              "\n",
              "  <svg xmlns=\"http://www.w3.org/2000/svg\" height=\"24px\" viewBox=\"0 -960 960 960\">\n",
              "    <path d=\"M120-120v-720h720v720H120Zm60-500h600v-160H180v160Zm220 220h160v-160H400v160Zm0 220h160v-160H400v160ZM180-400h160v-160H180v160Zm440 0h160v-160H620v160ZM180-180h160v-160H180v160Zm440 0h160v-160H620v160Z\"/>\n",
              "  </svg>\n",
              "    </button>\n",
              "\n",
              "  <style>\n",
              "    .colab-df-container {\n",
              "      display:flex;\n",
              "      gap: 12px;\n",
              "    }\n",
              "\n",
              "    .colab-df-convert {\n",
              "      background-color: #E8F0FE;\n",
              "      border: none;\n",
              "      border-radius: 50%;\n",
              "      cursor: pointer;\n",
              "      display: none;\n",
              "      fill: #1967D2;\n",
              "      height: 32px;\n",
              "      padding: 0 0 0 0;\n",
              "      width: 32px;\n",
              "    }\n",
              "\n",
              "    .colab-df-convert:hover {\n",
              "      background-color: #E2EBFA;\n",
              "      box-shadow: 0px 1px 2px rgba(60, 64, 67, 0.3), 0px 1px 3px 1px rgba(60, 64, 67, 0.15);\n",
              "      fill: #174EA6;\n",
              "    }\n",
              "\n",
              "    .colab-df-buttons div {\n",
              "      margin-bottom: 4px;\n",
              "    }\n",
              "\n",
              "    [theme=dark] .colab-df-convert {\n",
              "      background-color: #3B4455;\n",
              "      fill: #D2E3FC;\n",
              "    }\n",
              "\n",
              "    [theme=dark] .colab-df-convert:hover {\n",
              "      background-color: #434B5C;\n",
              "      box-shadow: 0px 1px 3px 1px rgba(0, 0, 0, 0.15);\n",
              "      filter: drop-shadow(0px 1px 2px rgba(0, 0, 0, 0.3));\n",
              "      fill: #FFFFFF;\n",
              "    }\n",
              "  </style>\n",
              "\n",
              "    <script>\n",
              "      const buttonEl =\n",
              "        document.querySelector('#df-b21915f0-e9b7-41ce-afd7-47c27e8a722a button.colab-df-convert');\n",
              "      buttonEl.style.display =\n",
              "        google.colab.kernel.accessAllowed ? 'block' : 'none';\n",
              "\n",
              "      async function convertToInteractive(key) {\n",
              "        const element = document.querySelector('#df-b21915f0-e9b7-41ce-afd7-47c27e8a722a');\n",
              "        const dataTable =\n",
              "          await google.colab.kernel.invokeFunction('convertToInteractive',\n",
              "                                                    [key], {});\n",
              "        if (!dataTable) return;\n",
              "\n",
              "        const docLinkHtml = 'Like what you see? Visit the ' +\n",
              "          '<a target=\"_blank\" href=https://colab.research.google.com/notebooks/data_table.ipynb>data table notebook</a>'\n",
              "          + ' to learn more about interactive tables.';\n",
              "        element.innerHTML = '';\n",
              "        dataTable['output_type'] = 'display_data';\n",
              "        await google.colab.output.renderOutput(dataTable, element);\n",
              "        const docLink = document.createElement('div');\n",
              "        docLink.innerHTML = docLinkHtml;\n",
              "        element.appendChild(docLink);\n",
              "      }\n",
              "    </script>\n",
              "  </div>\n",
              "\n",
              "\n",
              "<div id=\"df-e435781c-118f-49dc-9af7-da34102b1faf\">\n",
              "  <button class=\"colab-df-quickchart\" onclick=\"quickchart('df-e435781c-118f-49dc-9af7-da34102b1faf')\"\n",
              "            title=\"Suggest charts\"\n",
              "            style=\"display:none;\">\n",
              "\n",
              "<svg xmlns=\"http://www.w3.org/2000/svg\" height=\"24px\"viewBox=\"0 0 24 24\"\n",
              "     width=\"24px\">\n",
              "    <g>\n",
              "        <path d=\"M19 3H5c-1.1 0-2 .9-2 2v14c0 1.1.9 2 2 2h14c1.1 0 2-.9 2-2V5c0-1.1-.9-2-2-2zM9 17H7v-7h2v7zm4 0h-2V7h2v10zm4 0h-2v-4h2v4z\"/>\n",
              "    </g>\n",
              "</svg>\n",
              "  </button>\n",
              "\n",
              "<style>\n",
              "  .colab-df-quickchart {\n",
              "      --bg-color: #E8F0FE;\n",
              "      --fill-color: #1967D2;\n",
              "      --hover-bg-color: #E2EBFA;\n",
              "      --hover-fill-color: #174EA6;\n",
              "      --disabled-fill-color: #AAA;\n",
              "      --disabled-bg-color: #DDD;\n",
              "  }\n",
              "\n",
              "  [theme=dark] .colab-df-quickchart {\n",
              "      --bg-color: #3B4455;\n",
              "      --fill-color: #D2E3FC;\n",
              "      --hover-bg-color: #434B5C;\n",
              "      --hover-fill-color: #FFFFFF;\n",
              "      --disabled-bg-color: #3B4455;\n",
              "      --disabled-fill-color: #666;\n",
              "  }\n",
              "\n",
              "  .colab-df-quickchart {\n",
              "    background-color: var(--bg-color);\n",
              "    border: none;\n",
              "    border-radius: 50%;\n",
              "    cursor: pointer;\n",
              "    display: none;\n",
              "    fill: var(--fill-color);\n",
              "    height: 32px;\n",
              "    padding: 0;\n",
              "    width: 32px;\n",
              "  }\n",
              "\n",
              "  .colab-df-quickchart:hover {\n",
              "    background-color: var(--hover-bg-color);\n",
              "    box-shadow: 0 1px 2px rgba(60, 64, 67, 0.3), 0 1px 3px 1px rgba(60, 64, 67, 0.15);\n",
              "    fill: var(--button-hover-fill-color);\n",
              "  }\n",
              "\n",
              "  .colab-df-quickchart-complete:disabled,\n",
              "  .colab-df-quickchart-complete:disabled:hover {\n",
              "    background-color: var(--disabled-bg-color);\n",
              "    fill: var(--disabled-fill-color);\n",
              "    box-shadow: none;\n",
              "  }\n",
              "\n",
              "  .colab-df-spinner {\n",
              "    border: 2px solid var(--fill-color);\n",
              "    border-color: transparent;\n",
              "    border-bottom-color: var(--fill-color);\n",
              "    animation:\n",
              "      spin 1s steps(1) infinite;\n",
              "  }\n",
              "\n",
              "  @keyframes spin {\n",
              "    0% {\n",
              "      border-color: transparent;\n",
              "      border-bottom-color: var(--fill-color);\n",
              "      border-left-color: var(--fill-color);\n",
              "    }\n",
              "    20% {\n",
              "      border-color: transparent;\n",
              "      border-left-color: var(--fill-color);\n",
              "      border-top-color: var(--fill-color);\n",
              "    }\n",
              "    30% {\n",
              "      border-color: transparent;\n",
              "      border-left-color: var(--fill-color);\n",
              "      border-top-color: var(--fill-color);\n",
              "      border-right-color: var(--fill-color);\n",
              "    }\n",
              "    40% {\n",
              "      border-color: transparent;\n",
              "      border-right-color: var(--fill-color);\n",
              "      border-top-color: var(--fill-color);\n",
              "    }\n",
              "    60% {\n",
              "      border-color: transparent;\n",
              "      border-right-color: var(--fill-color);\n",
              "    }\n",
              "    80% {\n",
              "      border-color: transparent;\n",
              "      border-right-color: var(--fill-color);\n",
              "      border-bottom-color: var(--fill-color);\n",
              "    }\n",
              "    90% {\n",
              "      border-color: transparent;\n",
              "      border-bottom-color: var(--fill-color);\n",
              "    }\n",
              "  }\n",
              "</style>\n",
              "\n",
              "  <script>\n",
              "    async function quickchart(key) {\n",
              "      const quickchartButtonEl =\n",
              "        document.querySelector('#' + key + ' button');\n",
              "      quickchartButtonEl.disabled = true;  // To prevent multiple clicks.\n",
              "      quickchartButtonEl.classList.add('colab-df-spinner');\n",
              "      try {\n",
              "        const charts = await google.colab.kernel.invokeFunction(\n",
              "            'suggestCharts', [key], {});\n",
              "      } catch (error) {\n",
              "        console.error('Error during call to suggestCharts:', error);\n",
              "      }\n",
              "      quickchartButtonEl.classList.remove('colab-df-spinner');\n",
              "      quickchartButtonEl.classList.add('colab-df-quickchart-complete');\n",
              "    }\n",
              "    (() => {\n",
              "      let quickchartButtonEl =\n",
              "        document.querySelector('#df-e435781c-118f-49dc-9af7-da34102b1faf button');\n",
              "      quickchartButtonEl.style.display =\n",
              "        google.colab.kernel.accessAllowed ? 'block' : 'none';\n",
              "    })();\n",
              "  </script>\n",
              "</div>\n",
              "\n",
              "    </div>\n",
              "  </div>\n"
            ],
            "application/vnd.google.colaboratory.intrinsic+json": {
              "type": "dataframe",
              "variable_name": "df",
              "summary": "{\n  \"name\": \"df\",\n  \"rows\": 8693,\n  \"fields\": [\n    {\n      \"column\": \"PassengerId\",\n      \"properties\": {\n        \"dtype\": \"string\",\n        \"num_unique_values\": 8693,\n        \"samples\": [\n          \"0337_02\",\n          \"2891_01\",\n          \"8998_01\"\n        ],\n        \"semantic_type\": \"\",\n        \"description\": \"\"\n      }\n    },\n    {\n      \"column\": \"HomePlanet\",\n      \"properties\": {\n        \"dtype\": \"category\",\n        \"num_unique_values\": 3,\n        \"samples\": [\n          \"Europa\",\n          \"Earth\",\n          \"Mars\"\n        ],\n        \"semantic_type\": \"\",\n        \"description\": \"\"\n      }\n    },\n    {\n      \"column\": \"CryoSleep\",\n      \"properties\": {\n        \"dtype\": \"category\",\n        \"num_unique_values\": 2,\n        \"samples\": [\n          true,\n          false\n        ],\n        \"semantic_type\": \"\",\n        \"description\": \"\"\n      }\n    },\n    {\n      \"column\": \"Cabin\",\n      \"properties\": {\n        \"dtype\": \"string\",\n        \"num_unique_values\": 6560,\n        \"samples\": [\n          \"A/29/P\",\n          \"G/1452/P\"\n        ],\n        \"semantic_type\": \"\",\n        \"description\": \"\"\n      }\n    },\n    {\n      \"column\": \"Destination\",\n      \"properties\": {\n        \"dtype\": \"category\",\n        \"num_unique_values\": 3,\n        \"samples\": [\n          \"TRAPPIST-1e\",\n          \"PSO J318.5-22\"\n        ],\n        \"semantic_type\": \"\",\n        \"description\": \"\"\n      }\n    },\n    {\n      \"column\": \"Age\",\n      \"properties\": {\n        \"dtype\": \"number\",\n        \"std\": 14.489021423908726,\n        \"min\": 0.0,\n        \"max\": 79.0,\n        \"num_unique_values\": 80,\n        \"samples\": [\n          30.0,\n          39.0\n        ],\n        \"semantic_type\": \"\",\n        \"description\": \"\"\n      }\n    },\n    {\n      \"column\": \"VIP\",\n      \"properties\": {\n        \"dtype\": \"category\",\n        \"num_unique_values\": 2,\n        \"samples\": [\n          true,\n          false\n        ],\n        \"semantic_type\": \"\",\n        \"description\": \"\"\n      }\n    },\n    {\n      \"column\": \"RoomService\",\n      \"properties\": {\n        \"dtype\": \"number\",\n        \"std\": 666.7176629280303,\n        \"min\": 0.0,\n        \"max\": 14327.0,\n        \"num_unique_values\": 1273,\n        \"samples\": [\n          2103.0,\n          1720.0\n        ],\n        \"semantic_type\": \"\",\n        \"description\": \"\"\n      }\n    },\n    {\n      \"column\": \"FoodCourt\",\n      \"properties\": {\n        \"dtype\": \"number\",\n        \"std\": 1611.4892403551144,\n        \"min\": 0.0,\n        \"max\": 29813.0,\n        \"num_unique_values\": 1507,\n        \"samples\": [\n          61.0,\n          783.0\n        ],\n        \"semantic_type\": \"\",\n        \"description\": \"\"\n      }\n    },\n    {\n      \"column\": \"ShoppingMall\",\n      \"properties\": {\n        \"dtype\": \"number\",\n        \"std\": 604.6964584708251,\n        \"min\": 0.0,\n        \"max\": 23492.0,\n        \"num_unique_values\": 1115,\n        \"samples\": [\n          619.0,\n          356.0\n        ],\n        \"semantic_type\": \"\",\n        \"description\": \"\"\n      }\n    },\n    {\n      \"column\": \"Spa\",\n      \"properties\": {\n        \"dtype\": \"number\",\n        \"std\": 1136.705534834416,\n        \"min\": 0.0,\n        \"max\": 22408.0,\n        \"num_unique_values\": 1327,\n        \"samples\": [\n          190.0,\n          622.0\n        ],\n        \"semantic_type\": \"\",\n        \"description\": \"\"\n      }\n    },\n    {\n      \"column\": \"VRDeck\",\n      \"properties\": {\n        \"dtype\": \"number\",\n        \"std\": 1145.7171888057144,\n        \"min\": 0.0,\n        \"max\": 24133.0,\n        \"num_unique_values\": 1306,\n        \"samples\": [\n          977.0,\n          624.0\n        ],\n        \"semantic_type\": \"\",\n        \"description\": \"\"\n      }\n    },\n    {\n      \"column\": \"Name\",\n      \"properties\": {\n        \"dtype\": \"string\",\n        \"num_unique_values\": 8473,\n        \"samples\": [\n          \"Nancey Bookerson\",\n          \"Nelly Benney\"\n        ],\n        \"semantic_type\": \"\",\n        \"description\": \"\"\n      }\n    },\n    {\n      \"column\": \"Transported\",\n      \"properties\": {\n        \"dtype\": \"boolean\",\n        \"num_unique_values\": 2,\n        \"samples\": [\n          true,\n          false\n        ],\n        \"semantic_type\": \"\",\n        \"description\": \"\"\n      }\n    }\n  ]\n}"
            }
          },
          "metadata": {},
          "execution_count": 3
        }
      ],
      "source": [
        " # Dataset preview\n",
        "df.head()"
      ]
    },
    {
      "cell_type": "code",
      "execution_count": 4,
      "id": "e45858db",
      "metadata": {
        "ExecuteTime": {
          "end_time": "2024-08-26T10:53:06.524989Z",
          "start_time": "2024-08-26T10:53:06.497874800Z"
        },
        "colab": {
          "base_uri": "https://localhost:8080/"
        },
        "id": "e45858db",
        "outputId": "35cc70ea-3d05-475d-944d-b97053219bee"
      },
      "outputs": [
        {
          "output_type": "execute_result",
          "data": {
            "text/plain": [
              "(8693, 13)"
            ]
          },
          "metadata": {},
          "execution_count": 4
        }
      ],
      "source": [
        "# Number of records and columns\n",
        "df.shape"
      ]
    },
    {
      "cell_type": "code",
      "execution_count": 5,
      "id": "32505fef",
      "metadata": {
        "ExecuteTime": {
          "end_time": "2024-08-26T10:53:08.529844300Z",
          "start_time": "2024-08-26T10:53:08.463656900Z"
        },
        "colab": {
          "base_uri": "https://localhost:8080/"
        },
        "id": "32505fef",
        "outputId": "a83d0814-abcb-46b3-82c7-b98f23f24a3d"
      },
      "outputs": [
        {
          "output_type": "stream",
          "name": "stdout",
          "text": [
            "<class 'pandas.core.frame.DataFrame'>\n",
            "Index: 8693 entries, 0001_01 to 9280_02\n",
            "Data columns (total 13 columns):\n",
            " #   Column        Non-Null Count  Dtype  \n",
            "---  ------        --------------  -----  \n",
            " 0   HomePlanet    8492 non-null   object \n",
            " 1   CryoSleep     8476 non-null   object \n",
            " 2   Cabin         8494 non-null   object \n",
            " 3   Destination   8511 non-null   object \n",
            " 4   Age           8514 non-null   float64\n",
            " 5   VIP           8490 non-null   object \n",
            " 6   RoomService   8512 non-null   float64\n",
            " 7   FoodCourt     8510 non-null   float64\n",
            " 8   ShoppingMall  8485 non-null   float64\n",
            " 9   Spa           8510 non-null   float64\n",
            " 10  VRDeck        8505 non-null   float64\n",
            " 11  Name          8493 non-null   object \n",
            " 12  Transported   8693 non-null   bool   \n",
            "dtypes: bool(1), float64(6), object(6)\n",
            "memory usage: 891.4+ KB\n"
          ]
        }
      ],
      "source": [
        "# Basic dataset info\n",
        "df.info()"
      ]
    },
    {
      "cell_type": "code",
      "execution_count": 6,
      "id": "11f32a55",
      "metadata": {
        "ExecuteTime": {
          "end_time": "2024-08-26T10:57:35.558123500Z",
          "start_time": "2024-08-26T10:57:35.531694700Z"
        },
        "id": "11f32a55",
        "colab": {
          "base_uri": "https://localhost:8080/"
        },
        "outputId": "14fc1ecd-3dd2-4324-9821-79b1a064c914"
      },
      "outputs": [
        {
          "output_type": "execute_result",
          "data": {
            "text/plain": [
              "['HomePlanet',\n",
              " 'CryoSleep',\n",
              " 'Cabin',\n",
              " 'Destination',\n",
              " 'Age',\n",
              " 'VIP',\n",
              " 'RoomService',\n",
              " 'FoodCourt',\n",
              " 'ShoppingMall',\n",
              " 'Spa',\n",
              " 'VRDeck',\n",
              " 'Name']"
            ]
          },
          "metadata": {},
          "execution_count": 6
        }
      ],
      "source": [
        "TARGET = 'Transported'\n",
        "FEATURES = [col for col in df.columns if col != TARGET]\n",
        "FEATURES"
      ]
    },
    {
      "cell_type": "code",
      "execution_count": 7,
      "id": "b48be4b3",
      "metadata": {
        "ExecuteTime": {
          "end_time": "2024-08-26T10:57:38.098172500Z",
          "start_time": "2024-08-26T10:57:38.072529100Z"
        },
        "id": "b48be4b3"
      },
      "outputs": [],
      "source": [
        "text_features = [\"Cabin\", \"Name\"]\n",
        "cat_features = [col for col in FEATURES if df[col].nunique() < 25 and col not in text_features ]\n",
        "cont_features = [col for col in FEATURES if df[col].nunique() >= 25 and col not in text_features ]\n"
      ]
    },
    {
      "cell_type": "code",
      "source": [
        "cat_features"
      ],
      "metadata": {
        "colab": {
          "base_uri": "https://localhost:8080/"
        },
        "id": "KCDUiRAFFCn2",
        "outputId": "8905a59f-ae3a-43e2-908a-632952e04772"
      },
      "id": "KCDUiRAFFCn2",
      "execution_count": 8,
      "outputs": [
        {
          "output_type": "execute_result",
          "data": {
            "text/plain": [
              "['HomePlanet', 'CryoSleep', 'Destination', 'VIP']"
            ]
          },
          "metadata": {},
          "execution_count": 8
        }
      ]
    },
    {
      "cell_type": "code",
      "source": [
        "cont_features"
      ],
      "metadata": {
        "colab": {
          "base_uri": "https://localhost:8080/"
        },
        "id": "1NvKd9TpFFh6",
        "outputId": "750c6655-1a87-45e4-cf1b-2412836df048"
      },
      "id": "1NvKd9TpFFh6",
      "execution_count": 9,
      "outputs": [
        {
          "output_type": "execute_result",
          "data": {
            "text/plain": [
              "['Age', 'RoomService', 'FoodCourt', 'ShoppingMall', 'Spa', 'VRDeck']"
            ]
          },
          "metadata": {},
          "execution_count": 9
        }
      ]
    },
    {
      "cell_type": "code",
      "execution_count": 10,
      "id": "aac31fd3",
      "metadata": {
        "ExecuteTime": {
          "end_time": "2024-08-26T10:57:47.550193500Z",
          "start_time": "2024-08-26T10:57:47.530369600Z"
        },
        "colab": {
          "base_uri": "https://localhost:8080/"
        },
        "id": "aac31fd3",
        "outputId": "db0e0861-209a-48e7-cee0-adb115092268"
      },
      "outputs": [
        {
          "output_type": "stream",
          "name": "stdout",
          "text": [
            "Number of categorical features: 4\n",
            "Categorical features: ['HomePlanet', 'CryoSleep', 'Destination', 'VIP'] \n",
            "\n",
            "Number of continuos features: 6\n",
            "Continuos features: ['Age', 'RoomService', 'FoodCourt', 'ShoppingMall', 'Spa', 'VRDeck'] \n",
            "\n",
            "Number of text features: 2\n",
            "Text features: ['Cabin', 'Name']\n"
          ]
        }
      ],
      "source": [
        "print(f'Number of categorical features: {len(cat_features)}')\n",
        "print('Categorical features:', cat_features, '\\n')\n",
        "print(f'Number of continuos features: {len(cont_features)}')\n",
        "print('Continuos features:', cont_features, '\\n')\n",
        "print(f'Number of text features: {len(text_features)}')\n",
        "print('Text features:', text_features)"
      ]
    },
    {
      "cell_type": "code",
      "execution_count": 11,
      "id": "e3058ed7",
      "metadata": {
        "ExecuteTime": {
          "end_time": "2024-08-26T10:57:57.420440500Z",
          "start_time": "2024-08-26T10:57:56.231812Z"
        },
        "colab": {
          "base_uri": "https://localhost:8080/",
          "height": 512
        },
        "id": "e3058ed7",
        "outputId": "5259e959-3ca2-4e5e-b144-2f8db243a17e"
      },
      "outputs": [
        {
          "output_type": "display_data",
          "data": {
            "text/plain": [
              "<Figure size 800x500 with 1 Axes>"
            ],
            "image/png": "[encoded data removed]"
          },
          "metadata": {}
        }
      ],
      "source": [
        "ax = df[TARGET].value_counts().plot(kind='bar', figsize=(8, 5))\n",
        "for i in ax.containers:\n",
        "    ax.bar_label(i)\n",
        "    ax.set_xlabel(\"value\")\n",
        "    ax.set_ylabel(\"count\")\n",
        "\n",
        "plt.suptitle(\"Target feature distribution\")\n",
        "\n",
        "plt.tight_layout()\n",
        "plt.show()"
      ]
    },
    {
      "cell_type": "markdown",
      "id": "2d06c22d",
      "metadata": {
        "id": "2d06c22d"
      },
      "source": [
        "We can see that the target feature is distributed equally. That means we can use accuracy as a metric."
      ]
    },
    {
      "cell_type": "code",
      "execution_count": 12,
      "id": "655c0395",
      "metadata": {
        "colab": {
          "base_uri": "https://localhost:8080/",
          "height": 1000
        },
        "id": "655c0395",
        "outputId": "ebd42f65-2e0f-4874-b15d-e766b2a486a2"
      },
      "outputs": [
        {
          "output_type": "display_data",
          "data": {
            "text/plain": [
              "<Figure size 1000x1200 with 6 Axes>"
            ],
            "image/png": "[encoded data removed]"
          },
          "metadata": {}
        }
      ],
      "source": [
        "# Continuous features\n",
        "ax = df.loc[:, cont_features].hist(figsize=(10, 12), grid=False, edgecolor='black', linewidth=.4)\n",
        "for row in ax:\n",
        "    for col in row:\n",
        "        for i in col.containers:\n",
        "            col.bar_label(i)\n",
        "            col.set_xlabel(\"value\")\n",
        "            col.set_ylabel(\"count\")\n",
        "\n",
        "plt.suptitle(\"Continuous features distribution\")\n",
        "\n",
        "plt.tight_layout()\n",
        "plt.show()"
      ]
    },
    {
      "cell_type": "markdown",
      "id": "d6da7be8",
      "metadata": {
        "id": "d6da7be8"
      },
      "source": [
        "It looks like most of the passengers didn't use luxury services - all luxury amenities plots are heavily left-skewed.\n",
        "\n",
        "Let's create binary features for this services: if passanger used the service or not."
      ]
    },
    {
      "cell_type": "code",
      "execution_count": 13,
      "id": "2cb72938",
      "metadata": {
        "id": "2cb72938"
      },
      "outputs": [],
      "source": [
        "services_features = cont_features[1:]"
      ]
    },
    {
      "cell_type": "code",
      "execution_count": 14,
      "id": "1829bb5d",
      "metadata": {
        "id": "1829bb5d"
      },
      "outputs": [],
      "source": [
        "for feature in services_features:\n",
        "    df[f'used_{feature}'] = df.loc[:, feature].apply(lambda x: 1 if x > 0 else 0)"
      ]
    },
    {
      "cell_type": "code",
      "execution_count": 15,
      "id": "334ca79a",
      "metadata": {
        "colab": {
          "base_uri": "https://localhost:8080/",
          "height": 331
        },
        "id": "334ca79a",
        "outputId": "524f13f3-ef2d-49f1-b6e2-356f50b25f45"
      },
      "outputs": [
        {
          "output_type": "execute_result",
          "data": {
            "text/plain": [
              "<pandas.io.formats.style.Styler at 0x7e77760f8460>"
            ],
            "text/html": [
              "<style type=\"text/css\">\n",
              "#T_c9d93_row0_col0, #T_c9d93_row1_col1, #T_c9d93_row2_col2, #T_c9d93_row3_col3, #T_c9d93_row4_col4, #T_c9d93_row5_col5, #T_c9d93_row6_col6, #T_c9d93_row7_col7, #T_c9d93_row8_col8 {\n",
              "  background-color: #023858;\n",
              "  color: #f1f1f1;\n",
              "}\n",
              "#T_c9d93_row0_col1, #T_c9d93_row0_col5 {\n",
              "  background-color: #ced0e6;\n",
              "  color: #000000;\n",
              "}\n",
              "#T_c9d93_row0_col2, #T_c9d93_row0_col4, #T_c9d93_row7_col2 {\n",
              "  background-color: #c5cce3;\n",
              "  color: #000000;\n",
              "}\n",
              "#T_c9d93_row0_col3 {\n",
              "  background-color: #dbdaeb;\n",
              "  color: #000000;\n",
              "}\n",
              "#T_c9d93_row0_col6 {\n",
              "  background-color: #e8e4f0;\n",
              "  color: #000000;\n",
              "}\n",
              "#T_c9d93_row0_col7, #T_c9d93_row1_col2, #T_c9d93_row2_col3, #T_c9d93_row3_col2, #T_c9d93_row5_col0 {\n",
              "  background-color: #e4e1ef;\n",
              "  color: #000000;\n",
              "}\n",
              "#T_c9d93_row0_col8, #T_c9d93_row1_col0, #T_c9d93_row7_col6 {\n",
              "  background-color: #eae6f1;\n",
              "  color: #000000;\n",
              "}\n",
              "#T_c9d93_row1_col3 {\n",
              "  background-color: #d7d6e9;\n",
              "  color: #000000;\n",
              "}\n",
              "#T_c9d93_row1_col4, #T_c9d93_row2_col0, #T_c9d93_row2_col1, #T_c9d93_row7_col3 {\n",
              "  background-color: #dedcec;\n",
              "  color: #000000;\n",
              "}\n",
              "#T_c9d93_row1_col5, #T_c9d93_row7_col0 {\n",
              "  background-color: #e6e2ef;\n",
              "  color: #000000;\n",
              "}\n",
              "#T_c9d93_row1_col6, #T_c9d93_row1_col8, #T_c9d93_row6_col0, #T_c9d93_row6_col1, #T_c9d93_row6_col2, #T_c9d93_row6_col3, #T_c9d93_row6_col7, #T_c9d93_row8_col0, #T_c9d93_row8_col4, #T_c9d93_row8_col5 {\n",
              "  background-color: #fff7fb;\n",
              "  color: #000000;\n",
              "}\n",
              "#T_c9d93_row1_col7, #T_c9d93_row4_col7 {\n",
              "  background-color: #ebe6f2;\n",
              "  color: #000000;\n",
              "}\n",
              "#T_c9d93_row2_col4, #T_c9d93_row2_col5, #T_c9d93_row5_col2 {\n",
              "  background-color: #abbfdc;\n",
              "  color: #000000;\n",
              "}\n",
              "#T_c9d93_row2_col6, #T_c9d93_row3_col6 {\n",
              "  background-color: #faf3f9;\n",
              "  color: #000000;\n",
              "}\n",
              "#T_c9d93_row2_col7, #T_c9d93_row3_col4, #T_c9d93_row5_col7 {\n",
              "  background-color: #dddbec;\n",
              "  color: #000000;\n",
              "}\n",
              "#T_c9d93_row2_col8, #T_c9d93_row7_col4 {\n",
              "  background-color: #d4d4e8;\n",
              "  color: #000000;\n",
              "}\n",
              "#T_c9d93_row3_col0 {\n",
              "  background-color: #f0eaf4;\n",
              "  color: #000000;\n",
              "}\n",
              "#T_c9d93_row3_col1 {\n",
              "  background-color: #d2d2e7;\n",
              "  color: #000000;\n",
              "}\n",
              "#T_c9d93_row3_col5, #T_c9d93_row7_col8 {\n",
              "  background-color: #e3e0ee;\n",
              "  color: #000000;\n",
              "}\n",
              "#T_c9d93_row3_col7 {\n",
              "  background-color: #f1ebf5;\n",
              "  color: #000000;\n",
              "}\n",
              "#T_c9d93_row3_col8 {\n",
              "  background-color: #dad9ea;\n",
              "  color: #000000;\n",
              "}\n",
              "#T_c9d93_row4_col0, #T_c9d93_row4_col3, #T_c9d93_row5_col1, #T_c9d93_row8_col3 {\n",
              "  background-color: #dfddec;\n",
              "  color: #000000;\n",
              "}\n",
              "#T_c9d93_row4_col1, #T_c9d93_row8_col2 {\n",
              "  background-color: #d9d8ea;\n",
              "  color: #000000;\n",
              "}\n",
              "#T_c9d93_row4_col2 {\n",
              "  background-color: #acc0dd;\n",
              "  color: #000000;\n",
              "}\n",
              "#T_c9d93_row4_col5 {\n",
              "  background-color: #c0c9e2;\n",
              "  color: #000000;\n",
              "}\n",
              "#T_c9d93_row4_col6 {\n",
              "  background-color: #faf2f8;\n",
              "  color: #000000;\n",
              "}\n",
              "#T_c9d93_row4_col8, #T_c9d93_row6_col4 {\n",
              "  background-color: #fdf5fa;\n",
              "  color: #000000;\n",
              "}\n",
              "#T_c9d93_row5_col3 {\n",
              "  background-color: #e2dfee;\n",
              "  color: #000000;\n",
              "}\n",
              "#T_c9d93_row5_col4 {\n",
              "  background-color: #bdc8e1;\n",
              "  color: #000000;\n",
              "}\n",
              "#T_c9d93_row5_col6, #T_c9d93_row8_col7 {\n",
              "  background-color: #f9f2f8;\n",
              "  color: #000000;\n",
              "}\n",
              "#T_c9d93_row5_col8 {\n",
              "  background-color: #fbf3f9;\n",
              "  color: #000000;\n",
              "}\n",
              "#T_c9d93_row6_col5, #T_c9d93_row8_col1 {\n",
              "  background-color: #fef6fb;\n",
              "  color: #000000;\n",
              "}\n",
              "#T_c9d93_row6_col8 {\n",
              "  background-color: #509ac6;\n",
              "  color: #f1f1f1;\n",
              "}\n",
              "#T_c9d93_row7_col1 {\n",
              "  background-color: #d1d2e6;\n",
              "  color: #000000;\n",
              "}\n",
              "#T_c9d93_row7_col5 {\n",
              "  background-color: #c8cde4;\n",
              "  color: #000000;\n",
              "}\n",
              "#T_c9d93_row8_col6 {\n",
              "  background-color: #4e9ac6;\n",
              "  color: #f1f1f1;\n",
              "}\n",
              "</style>\n",
              "<table id=\"T_c9d93\" class=\"dataframe\">\n",
              "  <thead>\n",
              "    <tr>\n",
              "      <th class=\"blank level0\" >&nbsp;</th>\n",
              "      <th id=\"T_c9d93_level0_col0\" class=\"col_heading level0 col0\" >Age</th>\n",
              "      <th id=\"T_c9d93_level0_col1\" class=\"col_heading level0 col1\" >RoomService</th>\n",
              "      <th id=\"T_c9d93_level0_col2\" class=\"col_heading level0 col2\" >FoodCourt</th>\n",
              "      <th id=\"T_c9d93_level0_col3\" class=\"col_heading level0 col3\" >ShoppingMall</th>\n",
              "      <th id=\"T_c9d93_level0_col4\" class=\"col_heading level0 col4\" >Spa</th>\n",
              "      <th id=\"T_c9d93_level0_col5\" class=\"col_heading level0 col5\" >VRDeck</th>\n",
              "      <th id=\"T_c9d93_level0_col6\" class=\"col_heading level0 col6\" >CryoSleep</th>\n",
              "      <th id=\"T_c9d93_level0_col7\" class=\"col_heading level0 col7\" >VIP</th>\n",
              "      <th id=\"T_c9d93_level0_col8\" class=\"col_heading level0 col8\" >Transported</th>\n",
              "    </tr>\n",
              "  </thead>\n",
              "  <tbody>\n",
              "    <tr>\n",
              "      <th id=\"T_c9d93_level0_row0\" class=\"row_heading level0 row0\" >Age</th>\n",
              "      <td id=\"T_c9d93_row0_col0\" class=\"data row0 col0\" >1.000000</td>\n",
              "      <td id=\"T_c9d93_row0_col1\" class=\"data row0 col1\" >0.068723</td>\n",
              "      <td id=\"T_c9d93_row0_col2\" class=\"data row0 col2\" >0.130421</td>\n",
              "      <td id=\"T_c9d93_row0_col3\" class=\"data row0 col3\" >0.033133</td>\n",
              "      <td id=\"T_c9d93_row0_col4\" class=\"data row0 col4\" >0.123970</td>\n",
              "      <td id=\"T_c9d93_row0_col5\" class=\"data row0 col5\" >0.101007</td>\n",
              "      <td id=\"T_c9d93_row0_col6\" class=\"data row0 col6\" >-0.074273</td>\n",
              "      <td id=\"T_c9d93_row0_col7\" class=\"data row0 col7\" >0.092819</td>\n",
              "      <td id=\"T_c9d93_row0_col8\" class=\"data row0 col8\" >-0.075026</td>\n",
              "    </tr>\n",
              "    <tr>\n",
              "      <th id=\"T_c9d93_level0_row1\" class=\"row_heading level0 row1\" >RoomService</th>\n",
              "      <td id=\"T_c9d93_row1_col0\" class=\"data row1 col0\" >0.068723</td>\n",
              "      <td id=\"T_c9d93_row1_col1\" class=\"data row1 col1\" >1.000000</td>\n",
              "      <td id=\"T_c9d93_row1_col2\" class=\"data row1 col2\" >-0.015889</td>\n",
              "      <td id=\"T_c9d93_row1_col3\" class=\"data row1 col3\" >0.054480</td>\n",
              "      <td id=\"T_c9d93_row1_col4\" class=\"data row1 col4\" >0.010080</td>\n",
              "      <td id=\"T_c9d93_row1_col5\" class=\"data row1 col5\" >-0.019581</td>\n",
              "      <td id=\"T_c9d93_row1_col6\" class=\"data row1 col6\" >-0.252396</td>\n",
              "      <td id=\"T_c9d93_row1_col7\" class=\"data row1 col7\" >0.058785</td>\n",
              "      <td id=\"T_c9d93_row1_col8\" class=\"data row1 col8\" >-0.244611</td>\n",
              "    </tr>\n",
              "    <tr>\n",
              "      <th id=\"T_c9d93_level0_row2\" class=\"row_heading level0 row2\" >FoodCourt</th>\n",
              "      <td id=\"T_c9d93_row2_col0\" class=\"data row2 col0\" >0.130421</td>\n",
              "      <td id=\"T_c9d93_row2_col1\" class=\"data row2 col1\" >-0.015889</td>\n",
              "      <td id=\"T_c9d93_row2_col2\" class=\"data row2 col2\" >1.000000</td>\n",
              "      <td id=\"T_c9d93_row2_col3\" class=\"data row2 col3\" >-0.014228</td>\n",
              "      <td id=\"T_c9d93_row2_col4\" class=\"data row2 col4\" >0.221891</td>\n",
              "      <td id=\"T_c9d93_row2_col5\" class=\"data row2 col5\" >0.227995</td>\n",
              "      <td id=\"T_c9d93_row2_col6\" class=\"data row2 col6\" >-0.211510</td>\n",
              "      <td id=\"T_c9d93_row2_col7\" class=\"data row2 col7\" >0.129799</td>\n",
              "      <td id=\"T_c9d93_row2_col8\" class=\"data row2 col8\" >0.046566</td>\n",
              "    </tr>\n",
              "    <tr>\n",
              "      <th id=\"T_c9d93_level0_row3\" class=\"row_heading level0 row3\" >ShoppingMall</th>\n",
              "      <td id=\"T_c9d93_row3_col0\" class=\"data row3 col0\" >0.033133</td>\n",
              "      <td id=\"T_c9d93_row3_col1\" class=\"data row3 col1\" >0.054480</td>\n",
              "      <td id=\"T_c9d93_row3_col2\" class=\"data row3 col2\" >-0.014228</td>\n",
              "      <td id=\"T_c9d93_row3_col3\" class=\"data row3 col3\" >1.000000</td>\n",
              "      <td id=\"T_c9d93_row3_col4\" class=\"data row3 col4\" >0.013879</td>\n",
              "      <td id=\"T_c9d93_row3_col5\" class=\"data row3 col5\" >-0.007322</td>\n",
              "      <td id=\"T_c9d93_row3_col6\" class=\"data row3 col6\" >-0.212514</td>\n",
              "      <td id=\"T_c9d93_row3_col7\" class=\"data row3 col7\" >0.018295</td>\n",
              "      <td id=\"T_c9d93_row3_col8\" class=\"data row3 col8\" >0.010141</td>\n",
              "    </tr>\n",
              "    <tr>\n",
              "      <th id=\"T_c9d93_level0_row4\" class=\"row_heading level0 row4\" >Spa</th>\n",
              "      <td id=\"T_c9d93_row4_col0\" class=\"data row4 col0\" >0.123970</td>\n",
              "      <td id=\"T_c9d93_row4_col1\" class=\"data row4 col1\" >0.010080</td>\n",
              "      <td id=\"T_c9d93_row4_col2\" class=\"data row4 col2\" >0.221891</td>\n",
              "      <td id=\"T_c9d93_row4_col3\" class=\"data row4 col3\" >0.013879</td>\n",
              "      <td id=\"T_c9d93_row4_col4\" class=\"data row4 col4\" >1.000000</td>\n",
              "      <td id=\"T_c9d93_row4_col5\" class=\"data row4 col5\" >0.153821</td>\n",
              "      <td id=\"T_c9d93_row4_col6\" class=\"data row4 col6\" >-0.203991</td>\n",
              "      <td id=\"T_c9d93_row4_col7\" class=\"data row4 col7\" >0.061059</td>\n",
              "      <td id=\"T_c9d93_row4_col8\" class=\"data row4 col8\" >-0.221131</td>\n",
              "    </tr>\n",
              "    <tr>\n",
              "      <th id=\"T_c9d93_level0_row5\" class=\"row_heading level0 row5\" >VRDeck</th>\n",
              "      <td id=\"T_c9d93_row5_col0\" class=\"data row5 col0\" >0.101007</td>\n",
              "      <td id=\"T_c9d93_row5_col1\" class=\"data row5 col1\" >-0.019581</td>\n",
              "      <td id=\"T_c9d93_row5_col2\" class=\"data row5 col2\" >0.227995</td>\n",
              "      <td id=\"T_c9d93_row5_col3\" class=\"data row5 col3\" >-0.007322</td>\n",
              "      <td id=\"T_c9d93_row5_col4\" class=\"data row5 col4\" >0.153821</td>\n",
              "      <td id=\"T_c9d93_row5_col5\" class=\"data row5 col5\" >1.000000</td>\n",
              "      <td id=\"T_c9d93_row5_col6\" class=\"data row5 col6\" >-0.198857</td>\n",
              "      <td id=\"T_c9d93_row5_col7\" class=\"data row5 col7\" >0.125974</td>\n",
              "      <td id=\"T_c9d93_row5_col8\" class=\"data row5 col8\" >-0.207075</td>\n",
              "    </tr>\n",
              "    <tr>\n",
              "      <th id=\"T_c9d93_level0_row6\" class=\"row_heading level0 row6\" >CryoSleep</th>\n",
              "      <td id=\"T_c9d93_row6_col0\" class=\"data row6 col0\" >-0.074273</td>\n",
              "      <td id=\"T_c9d93_row6_col1\" class=\"data row6 col1\" >-0.252396</td>\n",
              "      <td id=\"T_c9d93_row6_col2\" class=\"data row6 col2\" >-0.211510</td>\n",
              "      <td id=\"T_c9d93_row6_col3\" class=\"data row6 col3\" >-0.212514</td>\n",
              "      <td id=\"T_c9d93_row6_col4\" class=\"data row6 col4\" >-0.203991</td>\n",
              "      <td id=\"T_c9d93_row6_col5\" class=\"data row6 col5\" >-0.198857</td>\n",
              "      <td id=\"T_c9d93_row6_col6\" class=\"data row6 col6\" >1.000000</td>\n",
              "      <td id=\"T_c9d93_row6_col7\" class=\"data row6 col7\" >-0.081402</td>\n",
              "      <td id=\"T_c9d93_row6_col8\" class=\"data row6 col8\" >0.468645</td>\n",
              "    </tr>\n",
              "    <tr>\n",
              "      <th id=\"T_c9d93_level0_row7\" class=\"row_heading level0 row7\" >VIP</th>\n",
              "      <td id=\"T_c9d93_row7_col0\" class=\"data row7 col0\" >0.092819</td>\n",
              "      <td id=\"T_c9d93_row7_col1\" class=\"data row7 col1\" >0.058785</td>\n",
              "      <td id=\"T_c9d93_row7_col2\" class=\"data row7 col2\" >0.129799</td>\n",
              "      <td id=\"T_c9d93_row7_col3\" class=\"data row7 col3\" >0.018295</td>\n",
              "      <td id=\"T_c9d93_row7_col4\" class=\"data row7 col4\" >0.061059</td>\n",
              "      <td id=\"T_c9d93_row7_col5\" class=\"data row7 col5\" >0.125974</td>\n",
              "      <td id=\"T_c9d93_row7_col6\" class=\"data row7 col6\" >-0.081402</td>\n",
              "      <td id=\"T_c9d93_row7_col7\" class=\"data row7 col7\" >1.000000</td>\n",
              "      <td id=\"T_c9d93_row7_col8\" class=\"data row7 col8\" >-0.037650</td>\n",
              "    </tr>\n",
              "    <tr>\n",
              "      <th id=\"T_c9d93_level0_row8\" class=\"row_heading level0 row8\" >Transported</th>\n",
              "      <td id=\"T_c9d93_row8_col0\" class=\"data row8 col0\" >-0.075026</td>\n",
              "      <td id=\"T_c9d93_row8_col1\" class=\"data row8 col1\" >-0.244611</td>\n",
              "      <td id=\"T_c9d93_row8_col2\" class=\"data row8 col2\" >0.046566</td>\n",
              "      <td id=\"T_c9d93_row8_col3\" class=\"data row8 col3\" >0.010141</td>\n",
              "      <td id=\"T_c9d93_row8_col4\" class=\"data row8 col4\" >-0.221131</td>\n",
              "      <td id=\"T_c9d93_row8_col5\" class=\"data row8 col5\" >-0.207075</td>\n",
              "      <td id=\"T_c9d93_row8_col6\" class=\"data row8 col6\" >0.468645</td>\n",
              "      <td id=\"T_c9d93_row8_col7\" class=\"data row8 col7\" >-0.037650</td>\n",
              "      <td id=\"T_c9d93_row8_col8\" class=\"data row8 col8\" >1.000000</td>\n",
              "    </tr>\n",
              "  </tbody>\n",
              "</table>\n"
            ]
          },
          "metadata": {},
          "execution_count": 15
        }
      ],
      "source": [
        "# Correlation matrix\n",
        "\n",
        "df.loc[:, cont_features + ['CryoSleep', 'VIP', TARGET]].corr().style.background_gradient()"
      ]
    },
    {
      "cell_type": "markdown",
      "id": "1ca71107",
      "metadata": {
        "id": "1ca71107"
      },
      "source": [
        "We can see that input features are not correlated with oneself. So we won't drop any of the features."
      ]
    },
    {
      "cell_type": "markdown",
      "source": [
        "Pay attention: Target leakage\n"
      ],
      "metadata": {
        "id": "s2KIQvmZZWsn"
      },
      "id": "s2KIQvmZZWsn"
    },
    {
      "cell_type": "markdown",
      "id": "6eb7f04a",
      "metadata": {
        "id": "6eb7f04a"
      },
      "source": [
        "## Preprocessing"
      ]
    },
    {
      "cell_type": "code",
      "execution_count": 16,
      "id": "72f33bc5",
      "metadata": {
        "id": "72f33bc5"
      },
      "outputs": [],
      "source": [
        "# Підготовка й обробка даних (feature engineering)\n",
        "# Проведемо заміну пропущених значень. Для кожної змінної заповнимо пропущені значення медіаною значень цієї змінної.\n",
        "# Imputing Missing Values\n",
        "\n",
        "imputer_cols = [\"Age\", \"FoodCourt\", \"ShoppingMall\", \"Spa\", \"VRDeck\" ,\"RoomService\"]\n",
        "imputer = SimpleImputer(strategy='median')\n",
        "imputer.fit(df[imputer_cols])\n",
        "df[imputer_cols] = imputer.transform(df[imputer_cols])"
      ]
    },
    {
      "cell_type": "code",
      "source": [
        "df['HomePlanet'] = df['HomePlanet'].map(str)"
      ],
      "metadata": {
        "id": "QgUVS7Q2KLZw"
      },
      "id": "QgUVS7Q2KLZw",
      "execution_count": 17,
      "outputs": []
    },
    {
      "cell_type": "code",
      "execution_count": 18,
      "id": "b11b529c",
      "metadata": {
        "id": "b11b529c"
      },
      "outputs": [],
      "source": [
        "# Оскільки змінні HomePlanet і Destination є категоріальними,\n",
        "# замінимо пропущені значення на фіктивне значення (dummy value).\n",
        "df[\"HomePlanet\"].fillna('Gallifrey', inplace=True)\n",
        "df[\"Destination\"].fillna('Skaro', inplace=True)"
      ]
    },
    {
      "cell_type": "code",
      "execution_count": 19,
      "id": "6d1db6e2",
      "metadata": {
        "id": "6d1db6e2"
      },
      "outputs": [],
      "source": [
        "# Змінні CryoSleep і VIP також містять пропущені значення.\n",
        "# Це бінарні змінні.  Тож подивимось, якого типу результат переважає\n",
        "# — True чи False, і використаємо ці значення, щоб заповнити пропуски.\n",
        "\n",
        "# Але перед цим, щоб не втратити інформацію про пропущені дані,\n",
        "# створимо дві додаткові бінарні змінні\n",
        "# — CryoSleep_is_missing і VIP_is_missing.\n",
        "# Значення 1 - даний рядок відповідної колонки мав пропущене значення,\n",
        "# а 0 — не мав.\n",
        "df['CryoSleep_is_missing'] = df['CryoSleep'].isna().astype(int)\n",
        "df['VIP_is_missing'] = df['VIP'].isna().astype(int)"
      ]
    },
    {
      "cell_type": "markdown",
      "source": [],
      "metadata": {
        "id": "yaRYM7cdsJ0v"
      },
      "id": "yaRYM7cdsJ0v"
    },
    {
      "cell_type": "code",
      "execution_count": 20,
      "id": "952401cf",
      "metadata": {
        "colab": {
          "base_uri": "https://localhost:8080/",
          "height": 339
        },
        "id": "952401cf",
        "outputId": "2ce099d4-8901-4d32-ff9e-efa5ca4abb2c"
      },
      "outputs": [
        {
          "output_type": "display_data",
          "data": {
            "text/plain": [
              "CryoSleep\n",
              "False    5439\n",
              "True     3037\n",
              "Name: count, dtype: int64"
            ],
            "text/html": [
              "<div>\n",
              "<style scoped>\n",
              "    .dataframe tbody tr th:only-of-type {\n",
              "        vertical-align: middle;\n",
              "    }\n",
              "\n",
              "    .dataframe tbody tr th {\n",
              "        vertical-align: top;\n",
              "    }\n",
              "\n",
              "    .dataframe thead th {\n",
              "        text-align: right;\n",
              "    }\n",
              "</style>\n",
              "<table border=\"1\" class=\"dataframe\">\n",
              "  <thead>\n",
              "    <tr style=\"text-align: right;\">\n",
              "      <th></th>\n",
              "      <th>count</th>\n",
              "    </tr>\n",
              "    <tr>\n",
              "      <th>CryoSleep</th>\n",
              "      <th></th>\n",
              "    </tr>\n",
              "  </thead>\n",
              "  <tbody>\n",
              "    <tr>\n",
              "      <th>False</th>\n",
              "      <td>5439</td>\n",
              "    </tr>\n",
              "    <tr>\n",
              "      <th>True</th>\n",
              "      <td>3037</td>\n",
              "    </tr>\n",
              "  </tbody>\n",
              "</table>\n",
              "</div><br><label><b>dtype:</b> int64</label>"
            ]
          },
          "metadata": {}
        },
        {
          "output_type": "display_data",
          "data": {
            "text/plain": [
              "VIP\n",
              "False    8291\n",
              "True      199\n",
              "Name: count, dtype: int64"
            ],
            "text/html": [
              "<div>\n",
              "<style scoped>\n",
              "    .dataframe tbody tr th:only-of-type {\n",
              "        vertical-align: middle;\n",
              "    }\n",
              "\n",
              "    .dataframe tbody tr th {\n",
              "        vertical-align: top;\n",
              "    }\n",
              "\n",
              "    .dataframe thead th {\n",
              "        text-align: right;\n",
              "    }\n",
              "</style>\n",
              "<table border=\"1\" class=\"dataframe\">\n",
              "  <thead>\n",
              "    <tr style=\"text-align: right;\">\n",
              "      <th></th>\n",
              "      <th>count</th>\n",
              "    </tr>\n",
              "    <tr>\n",
              "      <th>VIP</th>\n",
              "      <th></th>\n",
              "    </tr>\n",
              "  </thead>\n",
              "  <tbody>\n",
              "    <tr>\n",
              "      <th>False</th>\n",
              "      <td>8291</td>\n",
              "    </tr>\n",
              "    <tr>\n",
              "      <th>True</th>\n",
              "      <td>199</td>\n",
              "    </tr>\n",
              "  </tbody>\n",
              "</table>\n",
              "</div><br><label><b>dtype:</b> int64</label>"
            ]
          },
          "metadata": {}
        }
      ],
      "source": [
        "# Виведемо розподіл значень True і False за змінними:\n",
        "display(df['CryoSleep'].value_counts())\n",
        "display(df['VIP'].value_counts())"
      ]
    },
    {
      "cell_type": "code",
      "execution_count": 21,
      "id": "e51bf74e",
      "metadata": {
        "id": "e51bf74e"
      },
      "outputs": [],
      "source": [
        "#Заповнюємо пропуски найбільш присутнім значенням.\n",
        "df[\"CryoSleep\"].fillna(False, inplace=True)\n",
        "df[\"VIP\"].fillna(False, inplace=True)\n",
        "\n",
        "df[\"CryoSleep\"] = df[\"CryoSleep\"].astype(int)\n",
        "df[\"VIP\"] = df[\"VIP\"].astype(int)"
      ]
    },
    {
      "cell_type": "markdown",
      "source": [
        "Pay attention: we can transform binary/boolean features to categorical if have one or more types of NaNs."
      ],
      "metadata": {
        "id": "nbanBypaZpsW"
      },
      "id": "nbanBypaZpsW"
    },
    {
      "cell_type": "code",
      "execution_count": 22,
      "id": "03969295",
      "metadata": {
        "id": "03969295"
      },
      "outputs": [],
      "source": [
        "# Для кодування змінних HomePlanet і Destination використаємо метод One-hot encoding.\n",
        "# Це створює розріджене матричне (sparse matrix) представлення категоріальних даних.\n",
        "\n",
        "# переваги цього методу:\n",
        " #- Дозволяє використовувати категоріальні змінні де треба числові.\n",
        " #- Зберігає незалежність змінних і запобігає створенню штучного впорядкування.\n",
        "    # Тобто, коли кодуємо OrdinalEncoder, кожне унікальне заміняється на порядковий номер від 1 до n\n",
        "    # Це має сенс, коли є необхідність зберегти властивий порядок або ранжирування категорій.\n",
        "    # Однак у нашому випадку всі планети є рівноважливими.\n",
        "# Основний недолік - збільшення розмірності, бо створюється багато стовпів.\n",
        "   # Це може призвести до збільшення складності моделі й перенавчання (overfitting).\n",
        "\n",
        "# Оскільки нам потрібно закодувати тільки 2 змінні, кожна з яких містить тільки 4 категорії,\n",
        "# ми не створимо завелику кількість ознак. Отже, метод One-hot encoding є виправданим.\n",
        "\n",
        "dummies = pd.get_dummies(df.loc[:, ['HomePlanet', 'Destination']], dtype=int)"
      ]
    },
    {
      "cell_type": "code",
      "execution_count": 23,
      "id": "331ad42f",
      "metadata": {
        "colab": {
          "base_uri": "https://localhost:8080/",
          "height": 455
        },
        "id": "331ad42f",
        "outputId": "87083d7e-597b-4ba7-d00b-e5996e4704da"
      },
      "outputs": [
        {
          "output_type": "execute_result",
          "data": {
            "text/plain": [
              "             HomePlanet_Earth  HomePlanet_Europa  HomePlanet_Mars  \\\n",
              "PassengerId                                                         \n",
              "0001_01                     0                  1                0   \n",
              "0002_01                     1                  0                0   \n",
              "0003_01                     0                  1                0   \n",
              "0003_02                     0                  1                0   \n",
              "0004_01                     1                  0                0   \n",
              "...                       ...                ...              ...   \n",
              "9276_01                     0                  1                0   \n",
              "9278_01                     1                  0                0   \n",
              "9279_01                     1                  0                0   \n",
              "9280_01                     0                  1                0   \n",
              "9280_02                     0                  1                0   \n",
              "\n",
              "             HomePlanet_nan  Destination_55 Cancri e  \\\n",
              "PassengerId                                            \n",
              "0001_01                   0                        0   \n",
              "0002_01                   0                        0   \n",
              "0003_01                   0                        0   \n",
              "0003_02                   0                        0   \n",
              "0004_01                   0                        0   \n",
              "...                     ...                      ...   \n",
              "9276_01                   0                        1   \n",
              "9278_01                   0                        0   \n",
              "9279_01                   0                        0   \n",
              "9280_01                   0                        1   \n",
              "9280_02                   0                        0   \n",
              "\n",
              "             Destination_PSO J318.5-22  Destination_Skaro  \\\n",
              "PassengerId                                                 \n",
              "0001_01                              0                  0   \n",
              "0002_01                              0                  0   \n",
              "0003_01                              0                  0   \n",
              "0003_02                              0                  0   \n",
              "0004_01                              0                  0   \n",
              "...                                ...                ...   \n",
              "9276_01                              0                  0   \n",
              "9278_01                              1                  0   \n",
              "9279_01                              0                  0   \n",
              "9280_01                              0                  0   \n",
              "9280_02                              0                  0   \n",
              "\n",
              "             Destination_TRAPPIST-1e  \n",
              "PassengerId                           \n",
              "0001_01                            1  \n",
              "0002_01                            1  \n",
              "0003_01                            1  \n",
              "0003_02                            1  \n",
              "0004_01                            1  \n",
              "...                              ...  \n",
              "9276_01                            0  \n",
              "9278_01                            0  \n",
              "9279_01                            1  \n",
              "9280_01                            0  \n",
              "9280_02                            1  \n",
              "\n",
              "[8693 rows x 8 columns]"
            ],
            "text/html": [
              "\n",
              "  <div id=\"df-8bd0dd3e-db0d-48d2-85dc-35c1bda4e6a2\" class=\"colab-df-container\">\n",
              "    <div>\n",
              "<style scoped>\n",
              "    .dataframe tbody tr th:only-of-type {\n",
              "        vertical-align: middle;\n",
              "    }\n",
              "\n",
              "    .dataframe tbody tr th {\n",
              "        vertical-align: top;\n",
              "    }\n",
              "\n",
              "    .dataframe thead th {\n",
              "        text-align: right;\n",
              "    }\n",
              "</style>\n",
              "<table border=\"1\" class=\"dataframe\">\n",
              "  <thead>\n",
              "    <tr style=\"text-align: right;\">\n",
              "      <th></th>\n",
              "      <th>HomePlanet_Earth</th>\n",
              "      <th>HomePlanet_Europa</th>\n",
              "      <th>HomePlanet_Mars</th>\n",
              "      <th>HomePlanet_nan</th>\n",
              "      <th>Destination_55 Cancri e</th>\n",
              "      <th>Destination_PSO J318.5-22</th>\n",
              "      <th>Destination_Skaro</th>\n",
              "      <th>Destination_TRAPPIST-1e</th>\n",
              "    </tr>\n",
              "    <tr>\n",
              "      <th>PassengerId</th>\n",
              "      <th></th>\n",
              "      <th></th>\n",
              "      <th></th>\n",
              "      <th></th>\n",
              "      <th></th>\n",
              "      <th></th>\n",
              "      <th></th>\n",
              "      <th></th>\n",
              "    </tr>\n",
              "  </thead>\n",
              "  <tbody>\n",
              "    <tr>\n",
              "      <th>0001_01</th>\n",
              "      <td>0</td>\n",
              "      <td>1</td>\n",
              "      <td>0</td>\n",
              "      <td>0</td>\n",
              "      <td>0</td>\n",
              "      <td>0</td>\n",
              "      <td>0</td>\n",
              "      <td>1</td>\n",
              "    </tr>\n",
              "    <tr>\n",
              "      <th>0002_01</th>\n",
              "      <td>1</td>\n",
              "      <td>0</td>\n",
              "      <td>0</td>\n",
              "      <td>0</td>\n",
              "      <td>0</td>\n",
              "      <td>0</td>\n",
              "      <td>0</td>\n",
              "      <td>1</td>\n",
              "    </tr>\n",
              "    <tr>\n",
              "      <th>0003_01</th>\n",
              "      <td>0</td>\n",
              "      <td>1</td>\n",
              "      <td>0</td>\n",
              "      <td>0</td>\n",
              "      <td>0</td>\n",
              "      <td>0</td>\n",
              "      <td>0</td>\n",
              "      <td>1</td>\n",
              "    </tr>\n",
              "    <tr>\n",
              "      <th>0003_02</th>\n",
              "      <td>0</td>\n",
              "      <td>1</td>\n",
              "      <td>0</td>\n",
              "      <td>0</td>\n",
              "      <td>0</td>\n",
              "      <td>0</td>\n",
              "      <td>0</td>\n",
              "      <td>1</td>\n",
              "    </tr>\n",
              "    <tr>\n",
              "      <th>0004_01</th>\n",
              "      <td>1</td>\n",
              "      <td>0</td>\n",
              "      <td>0</td>\n",
              "      <td>0</td>\n",
              "      <td>0</td>\n",
              "      <td>0</td>\n",
              "      <td>0</td>\n",
              "      <td>1</td>\n",
              "    </tr>\n",
              "    <tr>\n",
              "      <th>...</th>\n",
              "      <td>...</td>\n",
              "      <td>...</td>\n",
              "      <td>...</td>\n",
              "      <td>...</td>\n",
              "      <td>...</td>\n",
              "      <td>...</td>\n",
              "      <td>...</td>\n",
              "      <td>...</td>\n",
              "    </tr>\n",
              "    <tr>\n",
              "      <th>9276_01</th>\n",
              "      <td>0</td>\n",
              "      <td>1</td>\n",
              "      <td>0</td>\n",
              "      <td>0</td>\n",
              "      <td>1</td>\n",
              "      <td>0</td>\n",
              "      <td>0</td>\n",
              "      <td>0</td>\n",
              "    </tr>\n",
              "    <tr>\n",
              "      <th>9278_01</th>\n",
              "      <td>1</td>\n",
              "      <td>0</td>\n",
              "      <td>0</td>\n",
              "      <td>0</td>\n",
              "      <td>0</td>\n",
              "      <td>1</td>\n",
              "      <td>0</td>\n",
              "      <td>0</td>\n",
              "    </tr>\n",
              "    <tr>\n",
              "      <th>9279_01</th>\n",
              "      <td>1</td>\n",
              "      <td>0</td>\n",
              "      <td>0</td>\n",
              "      <td>0</td>\n",
              "      <td>0</td>\n",
              "      <td>0</td>\n",
              "      <td>0</td>\n",
              "      <td>1</td>\n",
              "    </tr>\n",
              "    <tr>\n",
              "      <th>9280_01</th>\n",
              "      <td>0</td>\n",
              "      <td>1</td>\n",
              "      <td>0</td>\n",
              "      <td>0</td>\n",
              "      <td>1</td>\n",
              "      <td>0</td>\n",
              "      <td>0</td>\n",
              "      <td>0</td>\n",
              "    </tr>\n",
              "    <tr>\n",
              "      <th>9280_02</th>\n",
              "      <td>0</td>\n",
              "      <td>1</td>\n",
              "      <td>0</td>\n",
              "      <td>0</td>\n",
              "      <td>0</td>\n",
              "      <td>0</td>\n",
              "      <td>0</td>\n",
              "      <td>1</td>\n",
              "    </tr>\n",
              "  </tbody>\n",
              "</table>\n",
              "<p>8693 rows × 8 columns</p>\n",
              "</div>\n",
              "    <div class=\"colab-df-buttons\">\n",
              "\n",
              "  <div class=\"colab-df-container\">\n",
              "    <button class=\"colab-df-convert\" onclick=\"convertToInteractive('df-8bd0dd3e-db0d-48d2-85dc-35c1bda4e6a2')\"\n",
              "            title=\"Convert this dataframe to an interactive table.\"\n",
              "            style=\"display:none;\">\n",
              "\n",
              "  <svg xmlns=\"http://www.w3.org/2000/svg\" height=\"24px\" viewBox=\"0 -960 960 960\">\n",
              "    <path d=\"M120-120v-720h720v720H120Zm60-500h600v-160H180v160Zm220 220h160v-160H400v160Zm0 220h160v-160H400v160ZM180-400h160v-160H180v160Zm440 0h160v-160H620v160ZM180-180h160v-160H180v160Zm440 0h160v-160H620v160Z\"/>\n",
              "  </svg>\n",
              "    </button>\n",
              "\n",
              "  <style>\n",
              "    .colab-df-container {\n",
              "      display:flex;\n",
              "      gap: 12px;\n",
              "    }\n",
              "\n",
              "    .colab-df-convert {\n",
              "      background-color: #E8F0FE;\n",
              "      border: none;\n",
              "      border-radius: 50%;\n",
              "      cursor: pointer;\n",
              "      display: none;\n",
              "      fill: #1967D2;\n",
              "      height: 32px;\n",
              "      padding: 0 0 0 0;\n",
              "      width: 32px;\n",
              "    }\n",
              "\n",
              "    .colab-df-convert:hover {\n",
              "      background-color: #E2EBFA;\n",
              "      box-shadow: 0px 1px 2px rgba(60, 64, 67, 0.3), 0px 1px 3px 1px rgba(60, 64, 67, 0.15);\n",
              "      fill: #174EA6;\n",
              "    }\n",
              "\n",
              "    .colab-df-buttons div {\n",
              "      margin-bottom: 4px;\n",
              "    }\n",
              "\n",
              "    [theme=dark] .colab-df-convert {\n",
              "      background-color: #3B4455;\n",
              "      fill: #D2E3FC;\n",
              "    }\n",
              "\n",
              "    [theme=dark] .colab-df-convert:hover {\n",
              "      background-color: #434B5C;\n",
              "      box-shadow: 0px 1px 3px 1px rgba(0, 0, 0, 0.15);\n",
              "      filter: drop-shadow(0px 1px 2px rgba(0, 0, 0, 0.3));\n",
              "      fill: #FFFFFF;\n",
              "    }\n",
              "  </style>\n",
              "\n",
              "    <script>\n",
              "      const buttonEl =\n",
              "        document.querySelector('#df-8bd0dd3e-db0d-48d2-85dc-35c1bda4e6a2 button.colab-df-convert');\n",
              "      buttonEl.style.display =\n",
              "        google.colab.kernel.accessAllowed ? 'block' : 'none';\n",
              "\n",
              "      async function convertToInteractive(key) {\n",
              "        const element = document.querySelector('#df-8bd0dd3e-db0d-48d2-85dc-35c1bda4e6a2');\n",
              "        const dataTable =\n",
              "          await google.colab.kernel.invokeFunction('convertToInteractive',\n",
              "                                                    [key], {});\n",
              "        if (!dataTable) return;\n",
              "\n",
              "        const docLinkHtml = 'Like what you see? Visit the ' +\n",
              "          '<a target=\"_blank\" href=https://colab.research.google.com/notebooks/data_table.ipynb>data table notebook</a>'\n",
              "          + ' to learn more about interactive tables.';\n",
              "        element.innerHTML = '';\n",
              "        dataTable['output_type'] = 'display_data';\n",
              "        await google.colab.output.renderOutput(dataTable, element);\n",
              "        const docLink = document.createElement('div');\n",
              "        docLink.innerHTML = docLinkHtml;\n",
              "        element.appendChild(docLink);\n",
              "      }\n",
              "    </script>\n",
              "  </div>\n",
              "\n",
              "\n",
              "<div id=\"df-0a2cea84-786a-4aa5-aa68-9b36c7fcbb5f\">\n",
              "  <button class=\"colab-df-quickchart\" onclick=\"quickchart('df-0a2cea84-786a-4aa5-aa68-9b36c7fcbb5f')\"\n",
              "            title=\"Suggest charts\"\n",
              "            style=\"display:none;\">\n",
              "\n",
              "<svg xmlns=\"http://www.w3.org/2000/svg\" height=\"24px\"viewBox=\"0 0 24 24\"\n",
              "     width=\"24px\">\n",
              "    <g>\n",
              "        <path d=\"M19 3H5c-1.1 0-2 .9-2 2v14c0 1.1.9 2 2 2h14c1.1 0 2-.9 2-2V5c0-1.1-.9-2-2-2zM9 17H7v-7h2v7zm4 0h-2V7h2v10zm4 0h-2v-4h2v4z\"/>\n",
              "    </g>\n",
              "</svg>\n",
              "  </button>\n",
              "\n",
              "<style>\n",
              "  .colab-df-quickchart {\n",
              "      --bg-color: #E8F0FE;\n",
              "      --fill-color: #1967D2;\n",
              "      --hover-bg-color: #E2EBFA;\n",
              "      --hover-fill-color: #174EA6;\n",
              "      --disabled-fill-color: #AAA;\n",
              "      --disabled-bg-color: #DDD;\n",
              "  }\n",
              "\n",
              "  [theme=dark] .colab-df-quickchart {\n",
              "      --bg-color: #3B4455;\n",
              "      --fill-color: #D2E3FC;\n",
              "      --hover-bg-color: #434B5C;\n",
              "      --hover-fill-color: #FFFFFF;\n",
              "      --disabled-bg-color: #3B4455;\n",
              "      --disabled-fill-color: #666;\n",
              "  }\n",
              "\n",
              "  .colab-df-quickchart {\n",
              "    background-color: var(--bg-color);\n",
              "    border: none;\n",
              "    border-radius: 50%;\n",
              "    cursor: pointer;\n",
              "    display: none;\n",
              "    fill: var(--fill-color);\n",
              "    height: 32px;\n",
              "    padding: 0;\n",
              "    width: 32px;\n",
              "  }\n",
              "\n",
              "  .colab-df-quickchart:hover {\n",
              "    background-color: var(--hover-bg-color);\n",
              "    box-shadow: 0 1px 2px rgba(60, 64, 67, 0.3), 0 1px 3px 1px rgba(60, 64, 67, 0.15);\n",
              "    fill: var(--button-hover-fill-color);\n",
              "  }\n",
              "\n",
              "  .colab-df-quickchart-complete:disabled,\n",
              "  .colab-df-quickchart-complete:disabled:hover {\n",
              "    background-color: var(--disabled-bg-color);\n",
              "    fill: var(--disabled-fill-color);\n",
              "    box-shadow: none;\n",
              "  }\n",
              "\n",
              "  .colab-df-spinner {\n",
              "    border: 2px solid var(--fill-color);\n",
              "    border-color: transparent;\n",
              "    border-bottom-color: var(--fill-color);\n",
              "    animation:\n",
              "      spin 1s steps(1) infinite;\n",
              "  }\n",
              "\n",
              "  @keyframes spin {\n",
              "    0% {\n",
              "      border-color: transparent;\n",
              "      border-bottom-color: var(--fill-color);\n",
              "      border-left-color: var(--fill-color);\n",
              "    }\n",
              "    20% {\n",
              "      border-color: transparent;\n",
              "      border-left-color: var(--fill-color);\n",
              "      border-top-color: var(--fill-color);\n",
              "    }\n",
              "    30% {\n",
              "      border-color: transparent;\n",
              "      border-left-color: var(--fill-color);\n",
              "      border-top-color: var(--fill-color);\n",
              "      border-right-color: var(--fill-color);\n",
              "    }\n",
              "    40% {\n",
              "      border-color: transparent;\n",
              "      border-right-color: var(--fill-color);\n",
              "      border-top-color: var(--fill-color);\n",
              "    }\n",
              "    60% {\n",
              "      border-color: transparent;\n",
              "      border-right-color: var(--fill-color);\n",
              "    }\n",
              "    80% {\n",
              "      border-color: transparent;\n",
              "      border-right-color: var(--fill-color);\n",
              "      border-bottom-color: var(--fill-color);\n",
              "    }\n",
              "    90% {\n",
              "      border-color: transparent;\n",
              "      border-bottom-color: var(--fill-color);\n",
              "    }\n",
              "  }\n",
              "</style>\n",
              "\n",
              "  <script>\n",
              "    async function quickchart(key) {\n",
              "      const quickchartButtonEl =\n",
              "        document.querySelector('#' + key + ' button');\n",
              "      quickchartButtonEl.disabled = true;  // To prevent multiple clicks.\n",
              "      quickchartButtonEl.classList.add('colab-df-spinner');\n",
              "      try {\n",
              "        const charts = await google.colab.kernel.invokeFunction(\n",
              "            'suggestCharts', [key], {});\n",
              "      } catch (error) {\n",
              "        console.error('Error during call to suggestCharts:', error);\n",
              "      }\n",
              "      quickchartButtonEl.classList.remove('colab-df-spinner');\n",
              "      quickchartButtonEl.classList.add('colab-df-quickchart-complete');\n",
              "    }\n",
              "    (() => {\n",
              "      let quickchartButtonEl =\n",
              "        document.querySelector('#df-0a2cea84-786a-4aa5-aa68-9b36c7fcbb5f button');\n",
              "      quickchartButtonEl.style.display =\n",
              "        google.colab.kernel.accessAllowed ? 'block' : 'none';\n",
              "    })();\n",
              "  </script>\n",
              "</div>\n",
              "\n",
              "  <div id=\"id_6628a297-057a-424e-91b8-c614cb5388e0\">\n",
              "    <style>\n",
              "      .colab-df-generate {\n",
              "        background-color: #E8F0FE;\n",
              "        border: none;\n",
              "        border-radius: 50%;\n",
              "        cursor: pointer;\n",
              "        display: none;\n",
              "        fill: #1967D2;\n",
              "        height: 32px;\n",
              "        padding: 0 0 0 0;\n",
              "        width: 32px;\n",
              "      }\n",
              "\n",
              "      .colab-df-generate:hover {\n",
              "        background-color: #E2EBFA;\n",
              "        box-shadow: 0px 1px 2px rgba(60, 64, 67, 0.3), 0px 1px 3px 1px rgba(60, 64, 67, 0.15);\n",
              "        fill: #174EA6;\n",
              "      }\n",
              "\n",
              "      [theme=dark] .colab-df-generate {\n",
              "        background-color: #3B4455;\n",
              "        fill: #D2E3FC;\n",
              "      }\n",
              "\n",
              "      [theme=dark] .colab-df-generate:hover {\n",
              "        background-color: #434B5C;\n",
              "        box-shadow: 0px 1px 3px 1px rgba(0, 0, 0, 0.15);\n",
              "        filter: drop-shadow(0px 1px 2px rgba(0, 0, 0, 0.3));\n",
              "        fill: #FFFFFF;\n",
              "      }\n",
              "    </style>\n",
              "    <button class=\"colab-df-generate\" onclick=\"generateWithVariable('dummies')\"\n",
              "            title=\"Generate code using this dataframe.\"\n",
              "            style=\"display:none;\">\n",
              "\n",
              "  <svg xmlns=\"http://www.w3.org/2000/svg\" height=\"24px\"viewBox=\"0 0 24 24\"\n",
              "       width=\"24px\">\n",
              "    <path d=\"M7,19H8.4L18.45,9,17,7.55,7,17.6ZM5,21V16.75L18.45,3.32a2,2,0,0,1,2.83,0l1.4,1.43a1.91,1.91,0,0,1,.58,1.4,1.91,1.91,0,0,1-.58,1.4L9.25,21ZM18.45,9,17,7.55Zm-12,3A5.31,5.31,0,0,0,4.9,8.1,5.31,5.31,0,0,0,1,6.5,5.31,5.31,0,0,0,4.9,4.9,5.31,5.31,0,0,0,6.5,1,5.31,5.31,0,0,0,8.1,4.9,5.31,5.31,0,0,0,12,6.5,5.46,5.46,0,0,0,6.5,12Z\"/>\n",
              "  </svg>\n",
              "    </button>\n",
              "    <script>\n",
              "      (() => {\n",
              "      const buttonEl =\n",
              "        document.querySelector('#id_6628a297-057a-424e-91b8-c614cb5388e0 button.colab-df-generate');\n",
              "      buttonEl.style.display =\n",
              "        google.colab.kernel.accessAllowed ? 'block' : 'none';\n",
              "\n",
              "      buttonEl.onclick = () => {\n",
              "        google.colab.notebook.generateWithVariable('dummies');\n",
              "      }\n",
              "      })();\n",
              "    </script>\n",
              "  </div>\n",
              "\n",
              "    </div>\n",
              "  </div>\n"
            ],
            "application/vnd.google.colaboratory.intrinsic+json": {
              "type": "dataframe",
              "variable_name": "dummies",
              "summary": "{\n  \"name\": \"dummies\",\n  \"rows\": 8693,\n  \"fields\": [\n    {\n      \"column\": \"PassengerId\",\n      \"properties\": {\n        \"dtype\": \"string\",\n        \"num_unique_values\": 8693,\n        \"samples\": [\n          \"0337_02\",\n          \"2891_01\",\n          \"8998_01\"\n        ],\n        \"semantic_type\": \"\",\n        \"description\": \"\"\n      }\n    },\n    {\n      \"column\": \"HomePlanet_Earth\",\n      \"properties\": {\n        \"dtype\": \"number\",\n        \"std\": 0,\n        \"min\": 0,\n        \"max\": 1,\n        \"num_unique_values\": 2,\n        \"samples\": [\n          1,\n          0\n        ],\n        \"semantic_type\": \"\",\n        \"description\": \"\"\n      }\n    },\n    {\n      \"column\": \"HomePlanet_Europa\",\n      \"properties\": {\n        \"dtype\": \"number\",\n        \"std\": 0,\n        \"min\": 0,\n        \"max\": 1,\n        \"num_unique_values\": 2,\n        \"samples\": [\n          0,\n          1\n        ],\n        \"semantic_type\": \"\",\n        \"description\": \"\"\n      }\n    },\n    {\n      \"column\": \"HomePlanet_Mars\",\n      \"properties\": {\n        \"dtype\": \"number\",\n        \"std\": 0,\n        \"min\": 0,\n        \"max\": 1,\n        \"num_unique_values\": 2,\n        \"samples\": [\n          1,\n          0\n        ],\n        \"semantic_type\": \"\",\n        \"description\": \"\"\n      }\n    },\n    {\n      \"column\": \"HomePlanet_nan\",\n      \"properties\": {\n        \"dtype\": \"number\",\n        \"std\": 0,\n        \"min\": 0,\n        \"max\": 1,\n        \"num_unique_values\": 2,\n        \"samples\": [\n          1,\n          0\n        ],\n        \"semantic_type\": \"\",\n        \"description\": \"\"\n      }\n    },\n    {\n      \"column\": \"Destination_55 Cancri e\",\n      \"properties\": {\n        \"dtype\": \"number\",\n        \"std\": 0,\n        \"min\": 0,\n        \"max\": 1,\n        \"num_unique_values\": 2,\n        \"samples\": [\n          1,\n          0\n        ],\n        \"semantic_type\": \"\",\n        \"description\": \"\"\n      }\n    },\n    {\n      \"column\": \"Destination_PSO J318.5-22\",\n      \"properties\": {\n        \"dtype\": \"number\",\n        \"std\": 0,\n        \"min\": 0,\n        \"max\": 1,\n        \"num_unique_values\": 2,\n        \"samples\": [\n          1,\n          0\n        ],\n        \"semantic_type\": \"\",\n        \"description\": \"\"\n      }\n    },\n    {\n      \"column\": \"Destination_Skaro\",\n      \"properties\": {\n        \"dtype\": \"number\",\n        \"std\": 0,\n        \"min\": 0,\n        \"max\": 1,\n        \"num_unique_values\": 2,\n        \"samples\": [\n          1,\n          0\n        ],\n        \"semantic_type\": \"\",\n        \"description\": \"\"\n      }\n    },\n    {\n      \"column\": \"Destination_TRAPPIST-1e\",\n      \"properties\": {\n        \"dtype\": \"number\",\n        \"std\": 0,\n        \"min\": 0,\n        \"max\": 1,\n        \"num_unique_values\": 2,\n        \"samples\": [\n          0,\n          1\n        ],\n        \"semantic_type\": \"\",\n        \"description\": \"\"\n      }\n    }\n  ]\n}"
            }
          },
          "metadata": {},
          "execution_count": 23
        }
      ],
      "source": [
        "dummies"
      ]
    },
    {
      "cell_type": "code",
      "execution_count": 24,
      "id": "0185f7c0",
      "metadata": {
        "id": "0185f7c0"
      },
      "outputs": [],
      "source": [
        "# Додамо отримані змінні до оригінального набору даних і видалимо колонки HomePlanet і Destination.\n",
        "df = pd.concat([df, dummies], axis=1)\n",
        "df.drop(columns=['HomePlanet', 'Destination'], inplace=True)"
      ]
    },
    {
      "cell_type": "code",
      "execution_count": 25,
      "id": "54ff9505",
      "metadata": {
        "id": "54ff9505"
      },
      "outputs": [],
      "source": [
        "# Оскільки модель, яку ми будемо створювати, очікує на числові значення, перетворюємо цільову ознаку з бінарної на цілочисельну.\n",
        "df[TARGET] = df[TARGET].astype(int)"
      ]
    },
    {
      "cell_type": "code",
      "source": [
        "bool('true'), bool('False')  # TODO we need to write custom logic"
      ],
      "metadata": {
        "colab": {
          "base_uri": "https://localhost:8080/"
        },
        "id": "7DG7LTEVOcJG",
        "outputId": "a77c2c18-06cf-46df-af8e-2d7f8d20ffb2"
      },
      "id": "7DG7LTEVOcJG",
      "execution_count": 26,
      "outputs": [
        {
          "output_type": "execute_result",
          "data": {
            "text/plain": [
              "(True, True)"
            ]
          },
          "metadata": {},
          "execution_count": 26
        }
      ]
    },
    {
      "cell_type": "code",
      "execution_count": 27,
      "id": "bea8d04e",
      "metadata": {
        "id": "bea8d04e"
      },
      "outputs": [],
      "source": [
        "# For now, dropping textual features\n",
        "# Оскільки наразі ми не обробляємо текстові змінні, видалимо їх.\n",
        "df.drop([\"Name\", \"Cabin\"] , axis=1 ,inplace = True)"
      ]
    },
    {
      "cell_type": "code",
      "execution_count": 28,
      "id": "86ab8d62",
      "metadata": {
        "id": "86ab8d62"
      },
      "outputs": [],
      "source": [
        "# Train/test split\n",
        "\n",
        "X = df.drop(TARGET , axis =1 )\n",
        "y = df[TARGET]\n",
        "\n",
        "X_train , X_test , y_train , y_test = train_test_split(X, y, random_state = 42, test_size =0.33, stratify=y)\n",
        "# use stratify=y to ensure that the distribution of the target variable will be preserved in train/test datasets\n",
        "# stratify = y. Цей аргумент забезпечує збереження розподілу цільової змінної в наборах даних train/tets.\n"
      ]
    },
    {
      "cell_type": "code",
      "execution_count": 29,
      "id": "316ddeca",
      "metadata": {
        "colab": {
          "base_uri": "https://localhost:8080/"
        },
        "id": "316ddeca",
        "outputId": "1b2179eb-0bd5-41aa-fac6-404655c809d6"
      },
      "outputs": [
        {
          "output_type": "stream",
          "name": "stdout",
          "text": [
            "X train size (23, 5824)\n",
            "X test size (23, 2869)\n",
            "y train size (1, 5824)\n",
            "y test size (1, 2869)\n"
          ]
        }
      ],
      "source": [
        "# For further computation purpuses, let's transpose input data\n",
        "# Для подальших коректних обрахунків транспонуємо матрицю вхідних ознак і вектор цільової змінної.\n",
        "x_train = X_train.T\n",
        "x_test = X_test.T\n",
        "y_train = np.expand_dims(y_train.T, 0)\n",
        "y_test = np.expand_dims(y_test.T, 0)\n",
        "\n",
        "print('X train size', x_train.shape)\n",
        "print('X test size', x_test.shape)\n",
        "print('y train size', y_train.shape)\n",
        "print('y test size', y_test.shape)"
      ]
    },
    {
      "cell_type": "markdown",
      "id": "139b28ae",
      "metadata": {
        "id": "139b28ae"
      },
      "source": [
        "## Initializing parameters"
      ]
    },
    {
      "cell_type": "code",
      "execution_count": 30,
      "id": "ef7073e1",
      "metadata": {
        "id": "ef7073e1"
      },
      "outputs": [],
      "source": [
        "# Нам потрібно задати початкові параметри ваг w, які будуть змінюватись під час навчання.\n",
        "# Є різні способи задання ваг. Один з них — ініціалізувати всі ваги рівними одному числу.\n",
        "# Нехай усі значення ваг w будуть дорівнювати 0.01 у нашому прикладі,\n",
        "# а значення зміщення b буде дорівнювати нулю.\n",
        "\n",
        "# A function to initialize parameters\n",
        "\n",
        "def initialize_weights_and_bias(dimension):\n",
        "    # dimension - number of input features\n",
        "    w = np.full((dimension,1),0.01)\n",
        "    b = 0.0\n",
        "    return w, b"
      ]
    },
    {
      "cell_type": "markdown",
      "id": "ef945626",
      "metadata": {
        "id": "ef945626"
      },
      "source": [
        "## Forward Propagation"
      ]
    },
    {
      "cell_type": "code",
      "execution_count": 31,
      "id": "07f0c8cd",
      "metadata": {
        "id": "07f0c8cd"
      },
      "outputs": [],
      "source": [
        "# Для логістичної регресії ми виконуємо такі кроки:\n",
        "\n",
        "# Розраховуємо значення рівняння z = w.T*X + b.\n",
        "# У цьому рівнянні нам відомі значення всіх змінних:\n",
        "# X — матриця вхідних ознак, w — вектор ваг, який ми наразі ініціюємо константним значенням 0.01,\n",
        "# b — зміщення, яке ми прирівняли до 0.\n",
        "# Поміщаємо значення z у сигмоїду:\n",
        "def sigmoid(z):\n",
        "    y_head = 1/(1+np.exp(-z))\n",
        "    return y_head"
      ]
    },
    {
      "cell_type": "code",
      "execution_count": 32,
      "id": "bca398db",
      "metadata": {
        "id": "bca398db"
      },
      "outputs": [],
      "source": [
        "# Сигмоїда повертає значення ймовірностей, яке ми позначимо як y^\n",
        " # (y head y pred).\n",
        "# Обчислюємо значення функції втрат між реальними значеннями цільової\n",
        "# змінної (y true) і передбаченими (y pred).\n",
        "# Функцією втрат, яка добре репрезентує задачу бінарної класифікації,\n",
        "# є бінарна крос-ентропія (binary cross-entropy loss, BCE).\n",
        "# Вона має ряд причин для використання:\n",
        "#    - Імовірнісна інтерпретація: втрата binary cross-entropy loss виводиться з розподілу ймовірностей Бернуллі,\n",
        "#       який моделює ймовірність бінарного результату. Це дозволяє моделі виводити оцінки ймовірності для кожного класу.\n",
        "#    - Ефективність обчислень: порівняно з категоріальною крос-ентропією (categorical cross-entropy loss), бінарна крос-ентропія є\n",
        "#       обчислювально простішою та ефективнішою, оскільки для неї потрібен лише один вихідний нейрон у нейронній мережі.\n",
        "#    - Обробка незбалансованих даних: коли ви маєте справу з незбалансованими двійковими наборами даних, де один клас є значно поширенішим,\n",
        "#       ніж інший, бінарну крос-ентропію можна поєднати з такими методами, як зважування класів, щоб покращити продуктивність моделі.\n",
        "#    - Еквівалентність логістичній регресії: BCE математично еквівалентна максимізації ймовірності моделі логістичної регресії,\n",
        "#       яка є широко використовуваним методом для бінарних задач.\n",
        "\n",
        "# Математично вона визначається як −(1−y)⋅log(1−y^)−y⋅log(y^).\n",
        "# Значення функції втрат розраховується окремо для кожної пари y_true і\n",
        "#  y_pred​, кожного вхідного значення, а потім сумується для всього набору даних.\n",
        "# Можемо записати кроки прямого розповсюдження так.\n",
        "  # 1. Розраховуємо значення функції z. z = np.dot(w.T,x_train) + b\n",
        "  # 2. Отримуємо вектор значень передбачених значень y_pred після використання сигмоїди. y_head = sigmoid(z)\n",
        "  # 3. Рахуємо значення функції втрат за формулою. loss = -1*y_train*np.log(y_head)-(1-y_train)*np.log(1-y_head).\n",
        "  # Отримуємо вектор значень функції втрат для кожного значення цільової змінної y.\n",
        "  # 4. Підсумовуємо значення функції втрат. Нормуємо результат шляхом ділення на кількість вхідних точок,\n",
        "  # роблячи його незалежним від розміру набору даних. cost = (np.sum(loss))/x_train.shape[1]\n",
        "# Отримане число є значенням функції втрат, яке ми мінімізуємо для розв’язання задачі.\n",
        "# У підсумку отримуємо таку функцію.\n",
        "\n",
        "def forward_propagation(w,b,x_train,y_train):\n",
        "    z = np.dot(w.T,x_train) + b\n",
        "    y_head = sigmoid(z) # probabilistic 0-1\n",
        "    loss = -1*y_train*np.log(y_head)-(1-y_train)*np.log(1-y_head)\n",
        "    cost = (np.sum(loss))/x_train.shape[1]      # x_train.shape[1]  is for scaling\n",
        "    return cost"
      ]
    },
    {
      "cell_type": "markdown",
      "id": "3408a6d6",
      "metadata": {
        "id": "3408a6d6"
      },
      "source": [
        "## Gradient Descent\n",
        "Зворотне розповсюдження помилки\n"
      ]
    },
    {
      "cell_type": "code",
      "execution_count": 33,
      "id": "654d4ff5",
      "metadata": {
        "id": "654d4ff5"
      },
      "outputs": [],
      "source": [
        "# In backward propagation we will use y_head that found in forward progation\n",
        "# Therefore instead of writing backward propagation method, lets combine forward propagation and backward propagation\n",
        "\n",
        "# Оновлення ваг моделі шляхом розрахунку градієнта є кроком зворотного розповсюдження помилки.\n",
        "\n",
        "# Тепер ми маємо всі компоненти, аби записати forward and backward pass кодом.\n",
        "# Ця функція буде повертати значення функції витрат cost і змінну gradients,\n",
        "# що буде містити значення похідних.\n",
        "\n",
        "\n",
        "def forward_backward_propagation(w,b,x_train,y_train, eps=1e-5):\n",
        "\n",
        "    # forward propagation\n",
        "\n",
        "    z = np.dot(w.T,x_train) + b\n",
        "    y_head = sigmoid(z)\n",
        "    loss = -1*y_train*np.log(y_head+eps)-(1-y_train)*np.log(1-y_head+eps)\n",
        "    cost = (np.sum(loss))/x_train.shape[1]      # x_train.shape[1]  is for scaling\n",
        "\n",
        "    # backward propagation\n",
        "\n",
        "    derivative_weight = (np.dot(x_train,((y_head-y_train).T)))/x_train.shape[1] # x_train.shape[1]  is for scaling\n",
        "    derivative_bias = np.sum(y_head-y_train)/x_train.shape[1]                 # x_train.shape[1]  is for scaling\n",
        "    gradients = {\"derivative_weight\": derivative_weight,\"derivative_bias\": derivative_bias}\n",
        "\n",
        "    return cost,gradients"
      ]
    },
    {
      "cell_type": "code",
      "execution_count": 34,
      "id": "8a63b7d2",
      "metadata": {
        "id": "8a63b7d2"
      },
      "outputs": [],
      "source": [
        "# ця задача не потребує розбиття даних на мінібатчі.\n",
        "# (кожної епохи модель буде обробляти тільки один батч розмірністю [кількість вхідних ознак, кількість прикладів].\n",
        "# Але надалі треба будуть обробки даних батчами.\n",
        "\n",
        "# Updating(learning) parameters (Напишемо код оновлення ваг моделі. Для кожної епохи будемо виконувати такі кроки:)\n",
        "\n",
        "def update(w, b, x_train, y_train, learning_rate,number_of_iterarion):\n",
        "    cost_list = []\n",
        "    index = []\n",
        "\n",
        "    # updating(learning) parameters is number_of_iterarion times\n",
        "\n",
        "    for i in range(number_of_iterarion):\n",
        "\n",
        "        # make forward and backward propagation and find cost and gradients\n",
        "        # 1. Пряме і зворотне розповсюдження. Це дасть нам значення функції втрат і градієнтів.\n",
        "\n",
        "\n",
        "        cost,gradients = forward_backward_propagation(w,b,x_train,y_train)\n",
        "        # 2. Збереження значення функції втрат для того, щоб пізніше намалювати графік зміни функції.\n",
        "        # Проаналізувавши такий графік, можна оцінити якість навчання моделі (overfitting, underfitting) та вносити корективи до її тренування.\n",
        "        # Наприклад, змінювати швидкість навчання (learning rate).\n",
        "        cost_list.append(cost)\n",
        "\n",
        "        # lets update\n",
        "        # 3. Оновлення значення ваг моделі.\n",
        "        w = w - learning_rate * gradients[\"derivative_weight\"]\n",
        "        b = b - learning_rate * gradients[\"derivative_bias\"]\n",
        "        index.append(i)\n",
        "\n",
        "    # we update(learn) parameters weights and bias\n",
        "\n",
        "    parameters = {\"weight\": w,\"bias\": b}\n",
        "    plt.plot(index,cost_list)\n",
        "    plt.xlabel(\"Number of Iterarion\")\n",
        "    plt.ylabel(\"Cost\")\n",
        "    plt.show()\n",
        "\n",
        "    return parameters, gradients, cost_list"
      ]
    },
    {
      "cell_type": "code",
      "execution_count": 35,
      "id": "03ba0bd8",
      "metadata": {
        "id": "03ba0bd8"
      },
      "outputs": [],
      "source": [
        "# Окремо запишемо код для передбачення значень цільової змінної.\n",
        "#   1. Отримаємо значення сигмоїди при заданих X, W і b.\n",
        "#       z = sigmoid(np.dot(w.T,x_test)+b)\n",
        "#   2. Створимо масив нулів розмірності [1, кількість прикладів].\n",
        "#       Y_prediction = np.zeros((1,x_test.shape[1]))\n",
        "# 3. Для кожного значення z, якщо z > 0.5, записуємо значення 1 в Y_prediction, інакше — 0.\n",
        "\n",
        "def predict(w,b,x_test):\n",
        "\n",
        "    # x_test is a input for forward propagation\n",
        "\n",
        "    z = sigmoid(np.dot(w.T,x_test)+b)\n",
        "\n",
        "    Y_prediction = np.zeros((1,x_test.shape[1]))\n",
        "\n",
        "    # if z is bigger than 0.5, our prediction is sign one (y_head=1),\n",
        "    # if z is smaller than 0.5, our prediction is sign zero (y_head=0)\n",
        "\n",
        "    for i in range(z.shape[1]):\n",
        "        if z[0,i]<= 0.5:\n",
        "            Y_prediction[0,i] = 0\n",
        "        else:\n",
        "            Y_prediction[0,i] = 1\n",
        "\n",
        "    return Y_prediction"
      ]
    },
    {
      "cell_type": "markdown",
      "id": "6d0abd40",
      "metadata": {
        "id": "6d0abd40"
      },
      "source": [
        "Lets put them all together"
      ]
    },
    {
      "cell_type": "code",
      "execution_count": 36,
      "id": "7e33695c",
      "metadata": {
        "id": "7e33695c"
      },
      "outputs": [],
      "source": [
        "# Створимо фінальну модель. До неї увійдуть такі кроки:\n",
        "#   1. Ініціалізація ваг моделі w константними значеннями.\n",
        "#       w,b = initialize_weights_and_bias(dimension)\n",
        "#   2. Виконання прямого та зворотного розповсюдження\n",
        "#       num_iterations разів. parameters, gradients, cost_list = update(w, b, x_train, y_train, learning_rate,num_iterations)\n",
        "#   3. Передбачення значення цільової змінної для тренувального й тестового наборів даних.\n",
        "#       y_prediction_test = predict(parameters[\"weight\"],parameters[\"bias\"],x_test)\n",
        "#       y_prediction_train = predict(parameters[\"weight\"],parameters[\"bias\"],x_train)\n",
        "#   4. Розрахунок точності (accuracy) моделі на тренувальних і тестових даних.\n",
        "\n",
        "def logistic_regression(x_train, y_train, x_test, y_test, learning_rate ,  num_iterations):\n",
        "\n",
        "    # initialize\n",
        "\n",
        "    dimension =  x_train.shape[0]  # that is 4096\n",
        "    w,b = initialize_weights_and_bias(dimension)\n",
        "\n",
        "    # do not change learning rate\n",
        "    parameters, gradients, cost_list = update(w, b, x_train, y_train, learning_rate,num_iterations)\n",
        "\n",
        "    y_prediction_test = predict(parameters[\"weight\"],parameters[\"bias\"],x_test)\n",
        "    y_prediction_train = predict(parameters[\"weight\"],parameters[\"bias\"],x_train)\n",
        "\n",
        "    # Print train/test Errors\n",
        "    print(\"train accuracy: {} %\".format(100 - np.mean(np.abs(y_prediction_train - y_train)) * 100))\n",
        "    print(\"test accuracy: {} %\".format(100 - np.mean(np.abs(y_prediction_test - y_test)) * 100))"
      ]
    },
    {
      "cell_type": "code",
      "execution_count": 37,
      "id": "dec9dbf4",
      "metadata": {
        "colab": {
          "base_uri": "https://localhost:8080/",
          "height": 484
        },
        "id": "dec9dbf4",
        "outputId": "d563b179-49da-4101-baec-98fb64d28d2d"
      },
      "outputs": [
        {
          "output_type": "display_data",
          "data": {
            "text/plain": [
              "<Figure size 640x480 with 1 Axes>"
            ],
            "image/png": "[encoded data removed]"
          },
          "metadata": {}
        },
        {
          "output_type": "stream",
          "name": "stdout",
          "text": [
            "train accuracy: 77.93612637362638 %\n",
            "test accuracy: 79.36563262460788 %\n"
          ]
        }
      ],
      "source": [
        "# Протестуйте різні значення гіперпараметра швидкості навчання. Почніть зі значення 1 і поступово зменшуйте його до 0.00001. Як змінюється графік функції втрат?\n",
        "logistic_regression(x_train, y_train, x_test, y_test,learning_rate = 0.00001, num_iterations = 50)"
      ]
    }
  ],
  "metadata": {
    "kernelspec": {
      "display_name": "Python 3 (ipykernel)",
      "language": "python",
      "name": "python3"
    },
    "language_info": {
      "codemirror_mode": {
        "name": "ipython",
        "version": 3
      },
      "file_extension": ".py",
      "mimetype": "text/x-python",
      "name": "python",
      "nbconvert_exporter": "python",
      "pygments_lexer": "ipython3",
      "version": "3.10.12"
    },
    "toc": {
      "base_numbering": 1,
      "nav_menu": {},
      "number_sections": true,
      "sideBar": true,
      "skip_h1_title": false,
      "title_cell": "Table of Contents",
      "title_sidebar": "Contents",
      "toc_cell": false,
      "toc_position": {},
      "toc_section_display": true,
      "toc_window_display": false
    },
    "colab": {
      "provenance": []
    }
  },
  "nbformat": 4,
  "nbformat_minor": 5
}