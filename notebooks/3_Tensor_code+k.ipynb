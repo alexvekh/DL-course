{
  "cells": [
    {
      "cell_type": "markdown",
      "id": "c21cc839",
      "metadata": {
        "id": "c21cc839"
      },
      "source": [
        "# Tensors"
      ]
    },
    {
      "cell_type": "markdown",
      "source": [
        "Основним типом даних PyTorch є тензор (tensor).\n",
        "\n",
        "\n",
        "**Тензори** — це спеціалізовані структури даних, дуже схожі на масиви та матриці. У PyTorch ми використовуємо тензори для кодування входів і виходів моделі, а також параметрів моделі.\n",
        "\n",
        "Тензори схожі на багатовимірні масиви бібліотеки NumPy (ndarrays), за винятком того, що тензори можуть працювати на графічних процесорах або інших апаратних прискорювачах. Тензори також оптимізовані для автоматичного диференціювання.\n",
        "\n"
      ],
      "metadata": {
        "id": "5fAK_b1r7zb3"
      },
      "id": "5fAK_b1r7zb3"
    },
    {
      "cell_type": "code",
      "execution_count": 3,
      "id": "4fbb34a2",
      "metadata": {
        "id": "4fbb34a2"
      },
      "outputs": [],
      "source": [
        "import torch\n",
        "import numpy as np"
      ]
    },
    {
      "cell_type": "markdown",
      "source": [
        "## Initialization"
      ],
      "metadata": {
        "id": "4Ft1fVtmiLyR"
      },
      "id": "4Ft1fVtmiLyR"
    },
    {
      "cell_type": "code",
      "execution_count": 4,
      "id": "9ce1396c",
      "metadata": {
        "colab": {
          "base_uri": "https://localhost:8080/"
        },
        "id": "9ce1396c",
        "outputId": "01c710fe-5b33-472b-b668-9d1af55144c6"
      },
      "outputs": [
        {
          "output_type": "stream",
          "name": "stdout",
          "text": [
            "<class 'torch.Tensor'>\n",
            "tensor([[ 3.3631e-44,  0.0000e+00, -8.2030e-01,  4.4735e-41],\n",
            "        [ 1.4013e-45,  0.0000e+00,  0.0000e+00,  0.0000e+00],\n",
            "        [ 5.6052e-45,  0.0000e+00,  5.6052e-45,  7.0065e-45]])\n"
          ]
        }
      ],
      "source": [
        "# Ініціалізація тензора\n",
        "# Найпростішим способом створення тензора є виклик torch.empty().\n",
        "x = torch.empty(3, 4)\n",
        "print(type(x))\n",
        "print(x)\n",
        "# Створений тензор має 3 рядки та 4 стовпці.\n",
        "# Тип повернутого об’єкта – torch.Tensor, який є псевдонімом для torch.FloatTensor.\n",
        "# За замовчуванням тензори PyTorch заповнюються 32-розрядними числами з плаваючою комою.\n",
        "# 💡 Виклик torch.empty() виділяє пам’ять для тензора, але не ініціалізує його жодними значеннями – тому ви бачите те, що було в пам’яті на момент її виділення."
      ]
    },
    {
      "cell_type": "code",
      "execution_count": 5,
      "id": "e9fb158e",
      "metadata": {
        "colab": {
          "base_uri": "https://localhost:8080/"
        },
        "id": "e9fb158e",
        "outputId": "010c51c9-b2c5-4e25-9be7-c3a7c5e7257b"
      },
      "outputs": [
        {
          "output_type": "stream",
          "name": "stdout",
          "text": [
            "tensor([[0., 0., 0.],\n",
            "        [0., 0., 0.]])\n",
            "tensor([[1., 1., 1.],\n",
            "        [1., 1., 1.]])\n",
            "tensor([[0.3126, 0.3791, 0.3087],\n",
            "        [0.0736, 0.4216, 0.0691]])\n"
          ]
        }
      ],
      "source": [
        "# Одновимірний тензор також називають вектором. Двовимірний — матрицею. Усі масиви більше двох вимірів — тензором.\n",
        "\n",
        "# Найчастіше ви захочете ініціалізувати свій тензор певними значенням. Типовими випадками є всі нулі, усі одиниці або випадкові значення:\n",
        "zeros = torch.zeros(2, 3)\n",
        "print(zeros)\n",
        "\n",
        "ones = torch.ones(2, 3)\n",
        "print(ones)\n",
        "\n",
        "torch.manual_seed(1729)\n",
        "random = torch.rand(2, 3)\n",
        "print(random)"
      ]
    },
    {
      "cell_type": "code",
      "execution_count": 6,
      "id": "47a078ed",
      "metadata": {
        "colab": {
          "base_uri": "https://localhost:8080/"
        },
        "id": "47a078ed",
        "outputId": "db270b7a-2510-454d-d493-fe48ccfa7eb4"
      },
      "outputs": [
        {
          "output_type": "stream",
          "name": "stdout",
          "text": [
            "tensor([[0.3126, 0.3791, 0.3087],\n",
            "        [0.0736, 0.4216, 0.0691]])\n",
            "tensor([[0.2332, 0.4047, 0.2162],\n",
            "        [0.9927, 0.4128, 0.5938]])\n",
            "tensor([[0.3126, 0.3791, 0.3087],\n",
            "        [0.0736, 0.4216, 0.0691]])\n",
            "tensor([[0.2332, 0.4047, 0.2162],\n",
            "        [0.9927, 0.4128, 0.5938]])\n"
          ]
        }
      ],
      "source": [
        "# Випадкові тензори та seeding\n",
        "# Ініціалізація тензорів, таких як ваги моделі, випадковими значеннями є звичайним явищем,\n",
        "# але бувають випадки, особливо в дослідницьких умовах, коли потрібна впевненість у відтворюваності результатів.\n",
        "# Це можна зробити, встановивши початкове значення генератора випадкових чисел вручну.\n",
        "torch.manual_seed(1729)\n",
        "random1 = torch.rand(2, 3)\n",
        "print(random1)\n",
        "\n",
        "random2 = torch.rand(2, 3)\n",
        "print(random2)\n",
        "\n",
        "torch.manual_seed(1729)\n",
        "random3 = torch.rand(2, 3)\n",
        "print(random3)\n",
        "\n",
        "random4 = torch.rand(2, 3)\n",
        "print(random4)\n",
        "# random1 і random3 мають ідентичні значення, як і random2 і random4.\n",
        "# Встановлення початкового числа вручну скидає його, так що ідентичні обчислення залежно від випадкового числа мають у більшості налаштувань забезпечувати ідентичні результати."
      ]
    },
    {
      "cell_type": "code",
      "execution_count": 8,
      "id": "d142e737",
      "metadata": {
        "colab": {
          "base_uri": "https://localhost:8080/"
        },
        "id": "d142e737",
        "outputId": "01ff7c44-9cfb-4ef3-e4e1-5895505a466b"
      },
      "outputs": [
        {
          "output_type": "stream",
          "name": "stdout",
          "text": [
            "torch.Size([2, 2, 3])\n",
            "tensor([[[0.0000e+00, 0.0000e+00, 7.7052e+31],\n",
            "         [7.2148e+22, 1.5766e-19, 1.0256e-08]],\n",
            "\n",
            "        [[2.5783e-09, 3.1128e+12, 6.9362e-07],\n",
            "         [2.7005e-06, 6.6754e-07, 1.2609e+16]]])\n",
            "torch.Size([2, 2, 3])\n",
            "tensor([[[-1.3158e+00,  4.4735e-41,  4.9757e-01],\n",
            "         [ 3.0964e-41,  5.1844e-01,  3.0964e-41]],\n",
            "\n",
            "        [[ 4.9753e-01,  3.0964e-41,  0.0000e+00],\n",
            "         [ 0.0000e+00,  4.9780e-01,  3.0964e-41]]])\n",
            "torch.Size([2, 2, 3])\n",
            "tensor([[[0., 0., 0.],\n",
            "         [0., 0., 0.]],\n",
            "\n",
            "        [[0., 0., 0.],\n",
            "         [0., 0., 0.]]])\n",
            "torch.Size([2, 2, 3])\n",
            "tensor([[[1., 1., 1.],\n",
            "         [1., 1., 1.]],\n",
            "\n",
            "        [[1., 1., 1.],\n",
            "         [1., 1., 1.]]])\n",
            "torch.Size([2, 2, 3])\n",
            "tensor([[[0.5062, 0.8469, 0.2588],\n",
            "         [0.2707, 0.4115, 0.6839]],\n",
            "\n",
            "        [[0.0703, 0.5105, 0.9451],\n",
            "         [0.2359, 0.1979, 0.3327]]])\n"
          ]
        }
      ],
      "source": [
        "# Розмірність тензорів\n",
        "# Часто при виконанні операцій над двома чи більше тензорами, вони повинні мати однакову форму,\n",
        "# тобто мати однакову кількість вимірів і однакову кількість комірок у кожному вимірі.\n",
        "\n",
        "# Для створення тензору, який має таку ж саму кількість вимірів і кількість комірок, як і вже існуюючий тензор, існують методи torch.*_like():\n",
        "\n",
        "x = torch.empty(2, 2, 3)\n",
        "print(x.shape)\n",
        "print(x)\n",
        "\n",
        "empty_like_x = torch.empty_like(x)\n",
        "print(empty_like_x.shape)\n",
        "print(empty_like_x)\n",
        "\n",
        "zeros_like_x = torch.zeros_like(x)\n",
        "print(zeros_like_x.shape)\n",
        "print(zeros_like_x)\n",
        "\n",
        "ones_like_x = torch.ones_like(x)\n",
        "print(ones_like_x.shape)\n",
        "print(ones_like_x)\n",
        "\n",
        "rand_like_x = torch.rand_like(x)\n",
        "print(rand_like_x.shape)\n",
        "print(rand_like_x)\n",
        "# Властивість .shape містить список розмірів кожного виміру тензора — у нашому випадку x є тривимірним тензором форми 2 x 2 x 3.\n",
        "# Вище ми викликаємо методи .empty_like(), .zeros_like(), .ones_like() і .rand_like().\n",
        "# Використовуючи властивість .shape, ми можемо перевірити, що кожен із цих методів повертає тензор ідентичної розмірності."
      ]
    },
    {
      "cell_type": "code",
      "execution_count": 9,
      "id": "a39d2f63",
      "metadata": {
        "colab": {
          "base_uri": "https://localhost:8080/"
        },
        "id": "a39d2f63",
        "outputId": "c90a15a5-a8f6-40d4-946a-6da167e868a2"
      },
      "outputs": [
        {
          "output_type": "stream",
          "name": "stdout",
          "text": [
            "tensor([[3.1416, 2.7183],\n",
            "        [1.6180, 0.0073]])\n",
            "tensor([ 2,  3,  5,  7, 11, 13, 17, 19])\n",
            "tensor([[2, 4, 6],\n",
            "        [3, 6, 9]])\n"
          ]
        }
      ],
      "source": [
        "# Також тензори можна створювати безпосередньо з даних. Тип даних визначається автоматично.\n",
        "some_constants = torch.tensor([[3.1415926, 2.71828], [1.61803, 0.0072897]])\n",
        "print(some_constants)\n",
        "\n",
        "some_integers = torch.tensor((2, 3, 5, 7, 11, 13, 17, 19))\n",
        "print(some_integers)\n",
        "\n",
        "more_integers = torch.tensor(((2, 4, 6), [3, 6, 9]))\n",
        "print(more_integers)\n",
        "# torch.tensor() створює копію даних"
      ]
    },
    {
      "cell_type": "markdown",
      "source": [
        "## Attributes"
      ],
      "metadata": {
        "id": "1Jd59ccKiRZX"
      },
      "id": "1Jd59ccKiRZX"
    },
    {
      "cell_type": "markdown",
      "source": [
        "Характеристики тензора"
      ],
      "metadata": {
        "id": "M_xb_nh5_XUh"
      },
      "id": "M_xb_nh5_XUh"
    },
    {
      "cell_type": "code",
      "execution_count": 10,
      "id": "f36c9f94",
      "metadata": {
        "colab": {
          "base_uri": "https://localhost:8080/"
        },
        "id": "f36c9f94",
        "outputId": "7f4ef51d-5095-45db-e562-bde28a7b7250"
      },
      "outputs": [
        {
          "output_type": "stream",
          "name": "stdout",
          "text": [
            "tensor([[1, 1, 1],\n",
            "        [1, 1, 1]], dtype=torch.int16)\n",
            "tensor([[18.3283,  0.2118, 18.4972],\n",
            "        [ 9.8370,  3.8937, 16.1945]], dtype=torch.float64)\n",
            "tensor([[18,  0, 18],\n",
            "        [ 9,  3, 16]], dtype=torch.int32)\n"
          ]
        }
      ],
      "source": [
        "# Типи даних\n",
        "# Встановити тип даних тензора можна кількома способами:\n",
        "a = torch.ones((2, 3), dtype=torch.int16)\n",
        "print(a)\n",
        "\n",
        "b = torch.rand((2, 3), dtype=torch.float64) * 20.\n",
        "print(b)\n",
        "\n",
        "c = b.to(torch.int32)\n",
        "print(c)\n",
        "# Найпростіший спосіб встановити тип даних тензора — за допомогою необов’язкового аргументу dtype під час створення.\n",
        "# Інший спосіб - метод .to(). У комірці вище ми створюємо випадковий тензор b з плаваючою комою звичайним способом.\n",
        "#    Після цього ми створюємо c, перетворюючи b на 32-розрядне ціле число за допомогою методу .to().\n",
        "#   (c містить усі ті самі значення, що й b, але скорочені до цілих чисел.)\n",
        "\n",
        "# Доступні типи даних PyTorch включають: torch.bool, torch.int8, torch.uint8, torch.int16, torch.int32, torch.int64, torch.half, torch.float, torch.double, torch.bfloat."
      ]
    },
    {
      "cell_type": "code",
      "execution_count": 11,
      "id": "ae067c81",
      "metadata": {
        "colab": {
          "base_uri": "https://localhost:8080/"
        },
        "id": "ae067c81",
        "outputId": "0ff746a1-31db-437e-f7d5-aa46515f2acc"
      },
      "outputs": [
        {
          "output_type": "stream",
          "name": "stdout",
          "text": [
            "Shape of tensor: torch.Size([3, 4])\n",
            "Datatype of tensor: torch.float32\n",
            "Device tensor is stored on: cpu\n"
          ]
        }
      ],
      "source": [
        "# Атрибути тензора\n",
        "# Атрибути тензора описують їх форму, тип даних і пристрій, на якому вони зберігаються.\n",
        "\n",
        "tensor = torch.rand(3,4)\n",
        "\n",
        "print(f\"Shape of tensor: {tensor.shape}\")\n",
        "print(f\"Datatype of tensor: {tensor.dtype}\")\n",
        "print(f\"Device tensor is stored on: {tensor.device}\")"
      ]
    },
    {
      "cell_type": "markdown",
      "source": [
        "## Operations"
      ],
      "metadata": {
        "id": "Up6G2_zqiYYs"
      },
      "id": "Up6G2_zqiYYs"
    },
    {
      "cell_type": "markdown",
      "source": [
        "Математика та логіка"
      ],
      "metadata": {
        "id": "r_0NSjxjAZvV"
      },
      "id": "r_0NSjxjAZvV"
    },
    {
      "cell_type": "code",
      "execution_count": 12,
      "id": "e11931f2",
      "metadata": {
        "colab": {
          "base_uri": "https://localhost:8080/"
        },
        "id": "e11931f2",
        "outputId": "958a3269-b601-4a29-d867-af9a54f45722"
      },
      "outputs": [
        {
          "output_type": "stream",
          "name": "stdout",
          "text": [
            "tensor([[1., 1.],\n",
            "        [1., 1.]])\n",
            "tensor([[2., 2.],\n",
            "        [2., 2.]])\n",
            "tensor([[3., 3.],\n",
            "        [3., 3.]])\n",
            "tensor([[4., 4.],\n",
            "        [4., 4.]])\n",
            "tensor([[1.4142, 1.4142],\n",
            "        [1.4142, 1.4142]])\n"
          ]
        }
      ],
      "source": [
        "# Розглянемо базову арифметику та те, як тензори взаємодіють із простими скалярами.\n",
        "ones = torch.zeros(2, 2) + 1\n",
        "twos = torch.ones(2, 2) * 2\n",
        "threes = (torch.ones(2, 2) * 7 - 1) / 2\n",
        "fours = twos ** 2\n",
        "sqrt2s = twos ** 0.5\n",
        "\n",
        "print(ones)\n",
        "print(twos)\n",
        "print(threes)\n",
        "print(fours)\n",
        "print(sqrt2s)\n",
        "# Арифметичні операції між тензорами та скалярами, такі як додавання, віднімання, множення, ділення та піднесення до ступеня, розподілені по кожному елементу тензора.\n",
        "# Оскільки результатом такої операції буде тензор, можна об’єднати їх разом із звичайними правилами пріоритету операторів, як у рядку, де ми створюємо threes."
      ]
    },
    {
      "cell_type": "code",
      "execution_count": 13,
      "id": "fa1d1f41",
      "metadata": {
        "colab": {
          "base_uri": "https://localhost:8080/"
        },
        "id": "fa1d1f41",
        "outputId": "625646b9-a57c-49e1-9e32-31e7b58bec19"
      },
      "outputs": [
        {
          "output_type": "stream",
          "name": "stdout",
          "text": [
            "tensor([[ 2.,  4.],\n",
            "        [ 8., 16.]])\n",
            "tensor([[5., 5.],\n",
            "        [5., 5.]])\n",
            "tensor([[12., 12.],\n",
            "        [12., 12.]])\n"
          ]
        }
      ],
      "source": [
        "# Подібні операції між двома тензорами також поводяться інтуїтивно:\n",
        "powers2 = twos ** torch.tensor([[1, 2], [3, 4]])\n",
        "print(powers2)\n",
        "\n",
        "fives = ones + fours\n",
        "print(fives)\n",
        "\n",
        "dozens = threes * fours\n",
        "print(dozens)"
      ]
    },
    {
      "cell_type": "code",
      "execution_count": 14,
      "id": "c215fc04",
      "metadata": {
        "colab": {
          "base_uri": "https://localhost:8080/",
          "height": 176
        },
        "id": "c215fc04",
        "outputId": "95268b58-af8e-473b-ebdf-ae1e4d3b51fd"
      },
      "outputs": [
        {
          "output_type": "error",
          "ename": "RuntimeError",
          "evalue": "The size of tensor a (3) must match the size of tensor b (2) at non-singleton dimension 1",
          "traceback": [
            "\u001b[0;31m---------------------------------------------------------------------------\u001b[0m",
            "\u001b[0;31mRuntimeError\u001b[0m                              Traceback (most recent call last)",
            "\u001b[0;32m<ipython-input-14-89a97775d8d8>\u001b[0m in \u001b[0;36m<cell line: 6>\u001b[0;34m()\u001b[0m\n\u001b[1;32m      4\u001b[0m \u001b[0mb\u001b[0m \u001b[0;34m=\u001b[0m \u001b[0mtorch\u001b[0m\u001b[0;34m.\u001b[0m\u001b[0mrand\u001b[0m\u001b[0;34m(\u001b[0m\u001b[0;36m3\u001b[0m\u001b[0;34m,\u001b[0m \u001b[0;36m2\u001b[0m\u001b[0;34m)\u001b[0m\u001b[0;34m\u001b[0m\u001b[0;34m\u001b[0m\u001b[0m\n\u001b[1;32m      5\u001b[0m \u001b[0;34m\u001b[0m\u001b[0m\n\u001b[0;32m----> 6\u001b[0;31m \u001b[0mprint\u001b[0m\u001b[0;34m(\u001b[0m\u001b[0ma\u001b[0m \u001b[0;34m*\u001b[0m \u001b[0mb\u001b[0m\u001b[0;34m)\u001b[0m\u001b[0;34m\u001b[0m\u001b[0;34m\u001b[0m\u001b[0m\n\u001b[0m",
            "\u001b[0;31mRuntimeError\u001b[0m: The size of tensor a (3) must match the size of tensor b (2) at non-singleton dimension 1"
          ]
        }
      ],
      "source": [
        "# Важливо зазначити, що всі тензори в попередній комірці коду мали однакову форму.\n",
        "# А що станеться, коли ми спробуємо виконати двійкову операцію над тензорами різної форми?\n",
        "a = torch.rand(2, 3)\n",
        "b = torch.rand(3, 2)\n",
        "\n",
        "print(a * b)  # RuntimeError: The size of tensor a (3) must match the size of tensor b (2) at non-singleton dimension 1"
      ]
    },
    {
      "cell_type": "markdown",
      "source": [
        "#Індексування, нарізка, об’єднання та трансляція тензорів"
      ],
      "metadata": {
        "id": "CYEStnc2EN3T"
      },
      "id": "CYEStnc2EN3T"
    },
    {
      "cell_type": "code",
      "execution_count": 15,
      "id": "23354647",
      "metadata": {
        "colab": {
          "base_uri": "https://localhost:8080/"
        },
        "id": "23354647",
        "outputId": "83b0cdcd-6969-46f2-bd03-b247e75c54c1"
      },
      "outputs": [
        {
          "output_type": "stream",
          "name": "stdout",
          "text": [
            "First row: tensor([1., 1., 1., 1.])\n",
            "First column: tensor([1., 1., 1., 1.])\n",
            "Last column: tensor([1., 1., 1., 1.])\n",
            "tensor([[1., 0., 1., 1.],\n",
            "        [1., 0., 1., 1.],\n",
            "        [1., 0., 1., 1.],\n",
            "        [1., 0., 1., 1.]])\n"
          ]
        }
      ],
      "source": [
        "# Стандартне numpy-подібне індексування та нарізка\n",
        "# Індексування та нарізка (slicing) масивів в PyTorch ідентична до NumPy.\n",
        "tensor = torch.ones(4, 4)\n",
        "print(f\"First row: {tensor[0]}\")\n",
        "print(f\"First column: {tensor[:, 0]}\")\n",
        "print(f\"Last column: {tensor[..., -1]}\")\n",
        "tensor[:,1] = 0\n",
        "print(tensor)"
      ]
    },
    {
      "cell_type": "code",
      "execution_count": 16,
      "id": "8889bb6a",
      "metadata": {
        "colab": {
          "base_uri": "https://localhost:8080/"
        },
        "id": "8889bb6a",
        "outputId": "715038de-5f3e-41e2-af90-aeb6d07ea8b4"
      },
      "outputs": [
        {
          "output_type": "stream",
          "name": "stdout",
          "text": [
            "tensor([[1, 2],\n",
            "        [3, 4],\n",
            "        [5, 6]])\n"
          ]
        }
      ],
      "source": [
        "# Об’єднання тензорів\n",
        "x = torch.tensor([[1, 2], [3, 4]])\n",
        "y = torch.tensor([[5, 6]])\n",
        "# - torch.cat об’єднує послідовність тензорів уздовж виміру, що вже існує:\n",
        "# Concatenate along the 0th dimension\n",
        "result = torch.cat((x, y), dim=0)\n",
        "print(result)"
      ]
    },
    {
      "cell_type": "code",
      "execution_count": 19,
      "id": "ae4f033a",
      "metadata": {
        "colab": {
          "base_uri": "https://localhost:8080/"
        },
        "id": "ae4f033a",
        "outputId": "e1d4e51d-5c3e-434d-edc9-8e483ab03090"
      },
      "outputs": [
        {
          "output_type": "stream",
          "name": "stdout",
          "text": [
            "tensor([[[1, 2],\n",
            "         [3, 4]],\n",
            "\n",
            "        [[5, 6],\n",
            "         [3, 4]]])\n"
          ]
        }
      ],
      "source": [
        "x = torch.tensor([[1, 2], [3, 4]])\n",
        "y = torch.tensor([[5, 6], [3, 4]])\n",
        "# - torch.stack об’єднує послідовність тензорів у новому вимірі, створюючи новий вимір в отриманому тензорі.\n",
        "# функція stack очікує два аргументи — тензори однієї розмірності.\n",
        "# Stack along a new dimension (dimension 0)\n",
        "result = torch.stack((x, y), dim=0)\n",
        "print(result)"
      ]
    },
    {
      "cell_type": "code",
      "execution_count": 20,
      "id": "c9b49d28",
      "metadata": {
        "colab": {
          "base_uri": "https://localhost:8080/"
        },
        "id": "c9b49d28",
        "outputId": "3d55cd3a-2d33-40ba-d354-cdb68de01a88"
      },
      "outputs": [
        {
          "output_type": "stream",
          "name": "stdout",
          "text": [
            "tensor([[0.1332, 0.0023, 0.4945, 0.3857],\n",
            "        [0.9883, 0.4762, 0.7242, 0.0776]])\n",
            "tensor([[0.2663, 0.0045, 0.9890, 0.7715],\n",
            "        [1.9767, 0.9524, 1.4484, 0.1553]])\n"
          ]
        }
      ],
      "source": [
        "# Трансляція тензорів (tensor broadcasting)\n",
        "# Винятком із правила однакових форм є трансляція тензорів:\n",
        "rand = torch.rand(2, 4)\n",
        "doubled = rand * (torch.ones(1, 4) * 2)\n",
        "\n",
        "print(rand)\n",
        "print(doubled)"
      ]
    },
    {
      "cell_type": "markdown",
      "source": [
        "Як ми можемо помножити тензор 2x4 на тензор 1x4?\n",
        "\n",
        "**Трансляція** — це спосіб виконання операції між тензорами, які мають подібні форми. У наведеному вище прикладі тензор з одним рядком і чотирма стовпцями множиться на обидва рядки тензора з двома рядками і чотирма стовпцями.\n",
        "\n",
        "Це важлива операція в Deep Learning. Звичайним прикладом є множення тензора вагових коефіцієнтів навчання на групу вхідних тензорів, застосування операції до кожного екземпляра в групі окремо та повернення тензора ідентичної форми. Так, у наведеному вище прикладі множення тензорів розмірами (2, 4) та (1, 4) було повернуто тензор форми (2, 4).\n",
        "\n",
        "*Правила трансляції:*\n",
        "- Кожен тензор повинен мати принаймні один вимір — ніяких порожніх тензорів.\n",
        "- Порівняння розмірів двох тензорів від останнього до першого:\n",
        "  - розміри вимірів мають бути рівними або\n",
        "  - один із вимірів має розмір 1 або\n",
        "  - розмірність не існує в одному з тензорів."
      ],
      "metadata": {
        "id": "Go9QJ2ekGgf1"
      },
      "id": "Go9QJ2ekGgf1"
    },
    {
      "cell_type": "code",
      "execution_count": 21,
      "id": "dd6fe4eb",
      "metadata": {
        "colab": {
          "base_uri": "https://localhost:8080/"
        },
        "id": "dd6fe4eb",
        "outputId": "a0fb4e78-26f3-41bf-d014-a30b61d1074f"
      },
      "outputs": [
        {
          "output_type": "stream",
          "name": "stdout",
          "text": [
            "tensor([[[0.4004, 0.9877],\n",
            "         [0.0352, 0.0905],\n",
            "         [0.4485, 0.8740]],\n",
            "\n",
            "        [[0.4004, 0.9877],\n",
            "         [0.0352, 0.0905],\n",
            "         [0.4485, 0.8740]],\n",
            "\n",
            "        [[0.4004, 0.9877],\n",
            "         [0.0352, 0.0905],\n",
            "         [0.4485, 0.8740]],\n",
            "\n",
            "        [[0.4004, 0.9877],\n",
            "         [0.0352, 0.0905],\n",
            "         [0.4485, 0.8740]]])\n",
            "tensor([[[0.2526, 0.2526],\n",
            "         [0.6923, 0.6923],\n",
            "         [0.7545, 0.7545]],\n",
            "\n",
            "        [[0.2526, 0.2526],\n",
            "         [0.6923, 0.6923],\n",
            "         [0.7545, 0.7545]],\n",
            "\n",
            "        [[0.2526, 0.2526],\n",
            "         [0.6923, 0.6923],\n",
            "         [0.7545, 0.7545]],\n",
            "\n",
            "        [[0.2526, 0.2526],\n",
            "         [0.6923, 0.6923],\n",
            "         [0.7545, 0.7545]]])\n",
            "tensor([[[0.7746, 0.2330],\n",
            "         [0.7746, 0.2330],\n",
            "         [0.7746, 0.2330]],\n",
            "\n",
            "        [[0.7746, 0.2330],\n",
            "         [0.7746, 0.2330],\n",
            "         [0.7746, 0.2330]],\n",
            "\n",
            "        [[0.7746, 0.2330],\n",
            "         [0.7746, 0.2330],\n",
            "         [0.7746, 0.2330]],\n",
            "\n",
            "        [[0.7746, 0.2330],\n",
            "         [0.7746, 0.2330],\n",
            "         [0.7746, 0.2330]]])\n"
          ]
        }
      ],
      "source": [
        "# Розглянемо декілька прикладів, які відповідають наведеним вище правилам і дозволяють трансляцію:\n",
        "a = torch.ones(4, 3, 2)\n",
        "\n",
        "b = a * torch.rand(   3, 2) # 3rd & 2nd dims identical to a, dim 1 absent\n",
        "print(b)  # Операція множення, яка створила b, транслювалась на кожному «шарі» a.\n",
        "\n",
        "c = a * torch.rand(   3, 1) # 3rd dim = 1, 2nd dim identical to a\n",
        "print(c)  # Для c операція транслювалася над кожним шаром і рядком a — кожен 3-елементний стовпець ідентичний.\n",
        "\n",
        "d = a * torch.rand(   1, 2) # 3rd dim identical to a, 2nd dim = 1\n",
        "print(d) # Для d ми змінили його, тепер кожен рядок ідентичний у всіх шарах і стовпцях."
      ]
    },
    {
      "cell_type": "code",
      "execution_count": 23,
      "id": "5e39611a",
      "metadata": {
        "colab": {
          "base_uri": "https://localhost:8080/",
          "height": 193
        },
        "id": "5e39611a",
        "outputId": "4d745a37-b6ad-4057-eade-bbea71a43897"
      },
      "outputs": [
        {
          "output_type": "error",
          "ename": "RuntimeError",
          "evalue": "The size of tensor a (2) must match the size of tensor b (3) at non-singleton dimension 2",
          "traceback": [
            "\u001b[0;31m---------------------------------------------------------------------------\u001b[0m",
            "\u001b[0;31mRuntimeError\u001b[0m                              Traceback (most recent call last)",
            "\u001b[0;32m<ipython-input-23-60d9d9939ada>\u001b[0m in \u001b[0;36m<cell line: 4>\u001b[0;34m()\u001b[0m\n\u001b[1;32m      2\u001b[0m \u001b[0ma\u001b[0m \u001b[0;34m=\u001b[0m \u001b[0mtorch\u001b[0m\u001b[0;34m.\u001b[0m\u001b[0mones\u001b[0m\u001b[0;34m(\u001b[0m\u001b[0;36m4\u001b[0m\u001b[0;34m,\u001b[0m \u001b[0;36m3\u001b[0m\u001b[0;34m,\u001b[0m \u001b[0;36m2\u001b[0m\u001b[0;34m)\u001b[0m\u001b[0;34m\u001b[0m\u001b[0;34m\u001b[0m\u001b[0m\n\u001b[1;32m      3\u001b[0m \u001b[0;34m\u001b[0m\u001b[0m\n\u001b[0;32m----> 4\u001b[0;31m \u001b[0mb\u001b[0m \u001b[0;34m=\u001b[0m \u001b[0ma\u001b[0m \u001b[0;34m*\u001b[0m \u001b[0mtorch\u001b[0m\u001b[0;34m.\u001b[0m\u001b[0mrand\u001b[0m\u001b[0;34m(\u001b[0m\u001b[0;36m4\u001b[0m\u001b[0;34m,\u001b[0m \u001b[0;36m3\u001b[0m\u001b[0;34m)\u001b[0m    \u001b[0;31m# dimensions must match last-to-first\u001b[0m\u001b[0;34m\u001b[0m\u001b[0;34m\u001b[0m\u001b[0m\n\u001b[0m\u001b[1;32m      5\u001b[0m \u001b[0;31m# # розміри повинні збігатися від останнього до першого\u001b[0m\u001b[0;34m\u001b[0m\u001b[0;34m\u001b[0m\u001b[0m\n",
            "\u001b[0;31mRuntimeError\u001b[0m: The size of tensor a (2) must match the size of tensor b (3) at non-singleton dimension 2"
          ]
        }
      ],
      "source": [
        "# Ось кілька прикладів невдалих спроб трансляції:\n",
        "a = torch.ones(4, 3, 2)\n",
        "\n",
        "b = a * torch.rand(4, 3)    # dimensions must match last-to-first\n",
        "# # розміри повинні збігатися від останнього до першого"
      ]
    },
    {
      "cell_type": "code",
      "execution_count": 22,
      "id": "e87fdfe6",
      "metadata": {
        "colab": {
          "base_uri": "https://localhost:8080/",
          "height": 158
        },
        "id": "e87fdfe6",
        "outputId": "7f7b927e-b0f9-421f-f17f-ea6b3678724d"
      },
      "outputs": [
        {
          "output_type": "error",
          "ename": "RuntimeError",
          "evalue": "The size of tensor a (2) must match the size of tensor b (3) at non-singleton dimension 2",
          "traceback": [
            "\u001b[0;31m---------------------------------------------------------------------------\u001b[0m",
            "\u001b[0;31mRuntimeError\u001b[0m                              Traceback (most recent call last)",
            "\u001b[0;32m<ipython-input-22-eb0c3c7660e3>\u001b[0m in \u001b[0;36m<cell line: 1>\u001b[0;34m()\u001b[0m\n\u001b[0;32m----> 1\u001b[0;31m \u001b[0mc\u001b[0m \u001b[0;34m=\u001b[0m \u001b[0ma\u001b[0m \u001b[0;34m*\u001b[0m \u001b[0mtorch\u001b[0m\u001b[0;34m.\u001b[0m\u001b[0mrand\u001b[0m\u001b[0;34m(\u001b[0m   \u001b[0;36m2\u001b[0m\u001b[0;34m,\u001b[0m \u001b[0;36m3\u001b[0m\u001b[0;34m)\u001b[0m \u001b[0;31m# both 3rd & 2nd dims different\u001b[0m\u001b[0;34m\u001b[0m\u001b[0;34m\u001b[0m\u001b[0m\n\u001b[0m\u001b[1;32m      2\u001b[0m \u001b[0;31m# 3-й та 2-й димми різні\u001b[0m\u001b[0;34m\u001b[0m\u001b[0;34m\u001b[0m\u001b[0m\n",
            "\u001b[0;31mRuntimeError\u001b[0m: The size of tensor a (2) must match the size of tensor b (3) at non-singleton dimension 2"
          ]
        }
      ],
      "source": [
        "c = a * torch.rand(   2, 3) # both 3rd & 2nd dims different\n",
        "# 3-й та 2-й димми різні"
      ]
    },
    {
      "cell_type": "code",
      "execution_count": 24,
      "id": "7dea6df6",
      "metadata": {
        "colab": {
          "base_uri": "https://localhost:8080/",
          "height": 158
        },
        "id": "7dea6df6",
        "outputId": "18a350ae-1a17-4d2b-b9d2-ba4a00051c7b"
      },
      "outputs": [
        {
          "output_type": "error",
          "ename": "RuntimeError",
          "evalue": "The size of tensor a (2) must match the size of tensor b (0) at non-singleton dimension 2",
          "traceback": [
            "\u001b[0;31m---------------------------------------------------------------------------\u001b[0m",
            "\u001b[0;31mRuntimeError\u001b[0m                              Traceback (most recent call last)",
            "\u001b[0;32m<ipython-input-24-dd6d41c1282d>\u001b[0m in \u001b[0;36m<cell line: 1>\u001b[0;34m()\u001b[0m\n\u001b[0;32m----> 1\u001b[0;31m \u001b[0md\u001b[0m \u001b[0;34m=\u001b[0m \u001b[0ma\u001b[0m \u001b[0;34m*\u001b[0m \u001b[0mtorch\u001b[0m\u001b[0;34m.\u001b[0m\u001b[0mrand\u001b[0m\u001b[0;34m(\u001b[0m\u001b[0;34m(\u001b[0m\u001b[0;36m0\u001b[0m\u001b[0;34m,\u001b[0m \u001b[0;34m)\u001b[0m\u001b[0;34m)\u001b[0m   \u001b[0;31m# can't broadcast with an empty tensor\u001b[0m\u001b[0;34m\u001b[0m\u001b[0;34m\u001b[0m\u001b[0m\n\u001b[0m\u001b[1;32m      2\u001b[0m \u001b[0;31m# не може транслювати з порожнім тензором\u001b[0m\u001b[0;34m\u001b[0m\u001b[0;34m\u001b[0m\u001b[0m\n",
            "\u001b[0;31mRuntimeError\u001b[0m: The size of tensor a (2) must match the size of tensor b (0) at non-singleton dimension 2"
          ]
        }
      ],
      "source": [
        "d = a * torch.rand((0, ))   # can't broadcast with an empty tensor\n",
        "# не може транслювати з порожнім тензором"
      ]
    },
    {
      "cell_type": "markdown",
      "source": [
        "# Інші операції з тензорами"
      ],
      "metadata": {
        "id": "rjZq6A21K5lb"
      },
      "id": "rjZq6A21K5lb"
    },
    {
      "cell_type": "code",
      "execution_count": 25,
      "id": "7372195a",
      "metadata": {
        "colab": {
          "base_uri": "https://localhost:8080/"
        },
        "id": "7372195a",
        "outputId": "cd34b7ed-927d-4c62-9b45-a4774229acdc"
      },
      "outputs": [
        {
          "output_type": "stream",
          "name": "stdout",
          "text": [
            "12.0 <class 'float'>\n"
          ]
        }
      ],
      "source": [
        "# Одноелементні тензори\n",
        "# Одноелементний тензор (отриманий, наприклад, шляхом об’єднання всіх значень тензора в одне значення), ви можете перетворити на числове значення Python за допомогою методу item().\n",
        "agg = tensor.sum()\n",
        "agg_item = agg.item()\n",
        "# cuda - agg.cpu().item()\n",
        "# propagated - agg.detach().item()\n",
        "print(agg_item, type(agg_item))"
      ]
    },
    {
      "cell_type": "code",
      "execution_count": 26,
      "id": "be0f5ff0",
      "metadata": {
        "colab": {
          "base_uri": "https://localhost:8080/"
        },
        "id": "be0f5ff0",
        "outputId": "2664227c-fa3e-4616-a7e7-06710d053ba9"
      },
      "outputs": [
        {
          "output_type": "stream",
          "name": "stdout",
          "text": [
            "tensor([[1., 0., 1., 1.],\n",
            "        [1., 0., 1., 1.],\n",
            "        [1., 0., 1., 1.],\n",
            "        [1., 0., 1., 1.]]) \n",
            "\n",
            "tensor([[6., 5., 6., 6.],\n",
            "        [6., 5., 6., 6.],\n",
            "        [6., 5., 6., 6.],\n",
            "        [6., 5., 6., 6.]])\n"
          ]
        }
      ],
      "source": [
        "# Локальні операції (In-place operations)\n",
        "# Операції, які зберігають результат в операнді, є локальними. Вони позначаються суфіксом _. Наприклад: *x.copy*(y), x.t_() змінить x.\n",
        "print(f\"{tensor} \\n\")\n",
        "tensor.add_(5)  # inplace=True\n",
        "print(tensor)\n",
        "# Локальні операції економлять пам’ять, але можуть бути проблематичними під час обчислення похідних через втрату історії. Тому їх використання в таких випадках не рекомендується."
      ]
    },
    {
      "cell_type": "markdown",
      "source": [
        "## torch.tensor та numpy.array."
      ],
      "metadata": {
        "id": "x0dD0cZjL5sQ"
      },
      "id": "x0dD0cZjL5sQ"
    },
    {
      "cell_type": "code",
      "execution_count": null,
      "id": "c7d80e0c",
      "metadata": {
        "colab": {
          "base_uri": "https://localhost:8080/"
        },
        "id": "c7d80e0c",
        "outputId": "aa1644ef-4003-428f-db6e-150fa52bfb1d"
      },
      "outputs": [
        {
          "output_type": "stream",
          "name": "stdout",
          "text": [
            "t: tensor([1., 1., 1., 1., 1.])\n",
            "n: [1. 1. 1. 1. 1.]\n"
          ]
        }
      ],
      "source": [
        "# Тензори на CPU і масиви NumPy можуть спільно використовувати пам’ять, і зміна одного з масивів змінить інший.\n",
        "t = torch.ones(5)\n",
        "print(f\"t: {t}\")\n",
        "n = t.numpy()\n",
        "print(f\"n: {n}\")"
      ]
    },
    {
      "cell_type": "code",
      "execution_count": null,
      "id": "01516c0f",
      "metadata": {
        "colab": {
          "base_uri": "https://localhost:8080/"
        },
        "id": "01516c0f",
        "outputId": "5c55c763-7b68-4a35-ffdd-6282ad74cbf2"
      },
      "outputs": [
        {
          "output_type": "stream",
          "name": "stdout",
          "text": [
            "t: tensor([2., 2., 2., 2., 2.])\n",
            "n: [2. 2. 2. 2. 2.]\n"
          ]
        }
      ],
      "source": [
        "# Зміна тензора відображається в масиві NumPy.\n",
        "t.add_(1)\n",
        "print(f\"t: {t}\")\n",
        "print(f\"n: {n}\")"
      ]
    },
    {
      "cell_type": "code",
      "execution_count": 28,
      "id": "63627f4a",
      "metadata": {
        "id": "63627f4a"
      },
      "outputs": [],
      "source": [
        "# Приведення масиву NumPy до tensor\n",
        "n = np.ones(5)\n",
        "t = torch.from_numpy(n)"
      ]
    },
    {
      "cell_type": "code",
      "execution_count": 32,
      "id": "f5ba5216",
      "metadata": {
        "colab": {
          "base_uri": "https://localhost:8080/"
        },
        "id": "f5ba5216",
        "outputId": "19f55cdc-dd43-4367-ac06-97a584b09db7"
      },
      "outputs": [
        {
          "output_type": "stream",
          "name": "stdout",
          "text": [
            "t: tensor([5., 5., 5., 5., 5.], dtype=torch.float64)\n",
            "n: [5. 5. 5. 5. 5.]\n"
          ]
        }
      ],
      "source": [
        "# Зміни в масиві NumPy відображаються в тензорі.\n",
        "np.add(n, 1, out=n)\n",
        "print(f\"t: {t}\")\n",
        "print(f\"n: {n}\")"
      ]
    },
    {
      "cell_type": "markdown",
      "source": [
        "#  Операції на GPU"
      ],
      "metadata": {
        "id": "Ez2eZCMgM5_T"
      },
      "id": "Ez2eZCMgM5_T"
    },
    {
      "cell_type": "markdown",
      "source": [
        "Кожну з розглянутих нами операцій можна виконувати на графічному процесорі (GPU)(зазвичай із вищою швидкістю, ніж на центральному процесорі (CPU)).\n",
        "\n",
        "За замовчуванням тензори створюються на CPU. Нам потрібно явно перемістити тензори до GPU за допомогою методу .to (після перевірки доступності графічного процесора (GPU)).\n",
        "\n",
        "(копіювання великих тензорів між пристроями може бути затратним з точки зору часу та пам’яті)"
      ],
      "metadata": {
        "id": "uAHpuLNTNItx"
      },
      "id": "uAHpuLNTNItx"
    },
    {
      "cell_type": "code",
      "source": [
        "# Переносимо наш тензор на графічний процесор (GPU), якщо він доступний\n",
        "if torch.cuda.is_available():\n",
        "    tensor = tensor.to(\"cuda\")"
      ],
      "metadata": {
        "id": "OCWCDTj1NYkq"
      },
      "id": "OCWCDTj1NYkq",
      "execution_count": null,
      "outputs": []
    },
    {
      "cell_type": "markdown",
      "source": [
        "# Робота з розмірністю тензорів"
      ],
      "metadata": {
        "id": "S_ugiZXsNeFQ"
      },
      "id": "S_ugiZXsNeFQ"
    },
    {
      "cell_type": "code",
      "execution_count": 33,
      "id": "dba0011a",
      "metadata": {
        "colab": {
          "base_uri": "https://localhost:8080/"
        },
        "id": "dba0011a",
        "outputId": "8444209d-3f2f-44a0-f909-8f241deab407"
      },
      "outputs": [
        {
          "output_type": "stream",
          "name": "stdout",
          "text": [
            "torch.Size([3, 226, 226])\n",
            "torch.Size([1, 3, 226, 226])\n"
          ]
        }
      ],
      "source": [
        "# Іноді може виникнути потреба змінити форму тензора. Кілька поширених випадків і підходів до їх вирішення:\n",
        "#   - Одним із випадків, коли вам може знадобитися змінити кількість вимірів, є передача єдиного екземпляра вхідних даних у вашу модель.\n",
        "#     Моделі PyTorch зазвичай очікують батч даних (batches).\n",
        "#     Обробка батчами (batch processing) — це техніка, яка зазвичай використовується в машинному та глибокому навчанні для навчання та передбачення.\n",
        "#     Вона передбачає обробку кількох вхідних зразків (точок даних) одночасно, а не по одному.\n",
        "#     Уявіть, що у вас є модель, яка працює на зображеннях розмірності 3 х 226 х 226. Тобто входом моделі є 226-піксельний квадрат з трьома кольоровими каналами.\n",
        "#     Коли ви завантажуєте та перетворюєте його, ви отримаєте тензор форми (3, 226, 226).\n",
        "#     Проте ваша модель очікує введення форми (N, 3, 226, 226), де N — кількість зображень у батчі.\n",
        "\n",
        "# Отже, як зробити батч з одного зображення?\n",
        "a = torch.rand(3, 226, 226)\n",
        "b = a.unsqueeze(0)\n",
        "\n",
        "print(a.shape)\n",
        "print(b.shape)\n",
        "# Метод unsqueeze() додає вимір розміру 1. unsqueeze(0) додає його як новий нульовий вимір — тепер ми маємо батч розміру 1."
      ]
    },
    {
      "cell_type": "code",
      "execution_count": 34,
      "id": "abb9d769",
      "metadata": {
        "colab": {
          "base_uri": "https://localhost:8080/"
        },
        "id": "abb9d769",
        "outputId": "afcc63ef-00bb-42c3-9fdd-4dcf60269de1"
      },
      "outputs": [
        {
          "output_type": "stream",
          "name": "stdout",
          "text": [
            "torch.Size([1, 20])\n",
            "tensor([[0.9769, 0.2792, 0.3277, 0.5210, 0.7349, 0.7823, 0.8637, 0.1891, 0.3952,\n",
            "         0.9176, 0.8960, 0.4887, 0.8625, 0.6191, 0.9935, 0.1844, 0.6138, 0.6854,\n",
            "         0.0438, 0.0636]])\n",
            "torch.Size([20])\n",
            "tensor([0.9769, 0.2792, 0.3277, 0.5210, 0.7349, 0.7823, 0.8637, 0.1891, 0.3952,\n",
            "        0.9176, 0.8960, 0.4887, 0.8625, 0.6191, 0.9935, 0.1844, 0.6138, 0.6854,\n",
            "        0.0438, 0.0636])\n",
            "torch.Size([2, 2])\n",
            "torch.Size([2, 2])\n"
          ]
        }
      ],
      "source": [
        "# Продовжуючи наведений вище приклад, припустімо, що результатом моделі є 20-елементний вектор для кожного входу.\n",
        "# Тоді ви очікуєте, що результат матиме форму (N, 20), де N — це кількість екземплярів у вхідному батчі.\n",
        "# Це означає, що для батчу розміру 1 ми отримаємо вихідну форму (1, 20).\n",
        "# Що робити у випадку, коли вам знадобиться зробити обчислення з самим результатом — 20-елементним вектором?\n",
        "a = torch.rand(1, 20)\n",
        "print(a.shape)\n",
        "print(a)\n",
        "\n",
        "b = a.squeeze(0)  # object[0]\n",
        "print(b.shape)\n",
        "print(b)\n",
        "\n",
        "c = torch.rand(2, 2)\n",
        "print(c.shape)\n",
        "\n",
        "d = c.squeeze(0)\n",
        "print(d.shape)\n",
        "# Виклики squeeze() і unsqueeze() можуть діяти лише на вимірах розмірності 1, оскільки, інакше, зміниться кількість елементів у тензорі."
      ]
    },
    {
      "cell_type": "code",
      "execution_count": null,
      "id": "8fc39788",
      "metadata": {
        "colab": {
          "base_uri": "https://localhost:8080/"
        },
        "id": "8fc39788",
        "outputId": "2a16b25c-eec3-42a4-cb4f-e45066e5dc0b"
      },
      "outputs": [
        {
          "output_type": "stream",
          "name": "stdout",
          "text": [
            "tensor([[[0.8669, 0.8669],\n",
            "         [0.6005, 0.6005],\n",
            "         [0.7996, 0.7996]],\n",
            "\n",
            "        [[0.8669, 0.8669],\n",
            "         [0.6005, 0.6005],\n",
            "         [0.7996, 0.7996]],\n",
            "\n",
            "        [[0.8669, 0.8669],\n",
            "         [0.6005, 0.6005],\n",
            "         [0.7996, 0.7996]],\n",
            "\n",
            "        [[0.8669, 0.8669],\n",
            "         [0.6005, 0.6005],\n",
            "         [0.7996, 0.7996]]])\n"
          ]
        }
      ],
      "source": [
        "# Також можна використовувати unsqueeze() для полегшення трансляції:\n",
        "a = torch.ones(4, 3, 2)\n",
        "\n",
        "c = a * torch.rand(3, 1) # 3rd dim = 1, 2nd dim identical to a\n",
        "print(c)"
      ]
    },
    {
      "cell_type": "code",
      "execution_count": null,
      "id": "b367d67e",
      "metadata": {
        "colab": {
          "base_uri": "https://localhost:8080/"
        },
        "id": "b367d67e",
        "outputId": "7c36c69f-2276-449a-e624-dc2eb485abce"
      },
      "outputs": [
        {
          "output_type": "stream",
          "name": "stdout",
          "text": [
            "torch.Size([3, 1])\n",
            "tensor([[[0.4397, 0.4397],\n",
            "         [0.7885, 0.7885],\n",
            "         [0.0658, 0.0658]],\n",
            "\n",
            "        [[0.4397, 0.4397],\n",
            "         [0.7885, 0.7885],\n",
            "         [0.0658, 0.0658]],\n",
            "\n",
            "        [[0.4397, 0.4397],\n",
            "         [0.7885, 0.7885],\n",
            "         [0.0658, 0.0658]],\n",
            "\n",
            "        [[0.4397, 0.4397],\n",
            "         [0.7885, 0.7885],\n",
            "         [0.0658, 0.0658]]])\n"
          ]
        }
      ],
      "source": [
        "# Маючи трансляцію операції над вимірами 0 і 2, випадковий тензор 3 x 1 множився поелементно на кожен 3-елементний стовпець у a.\n",
        "# Що, якби випадковий вектор був просто 3-елементним? Ми втратили б можливість робити трансляцію, тому що кінцеві розміри не збігалися б з правилами трансляції.\n",
        "# unsqueeze() приходить на допомогу:\n",
        "\n",
        "a = torch.ones(4, 3, 2)\n",
        "b = torch.rand(   3)     # trying to multiply a * b will give a runtime error\n",
        "c = b.unsqueeze(1)       # change to a 2-dimensional tensor, adding new dim at the end\n",
        "print(c.shape)\n",
        "print(a * c)             # broadcasting works again!"
      ]
    },
    {
      "cell_type": "code",
      "execution_count": 35,
      "id": "30aaec13",
      "metadata": {
        "colab": {
          "base_uri": "https://localhost:8080/"
        },
        "id": "30aaec13",
        "outputId": "4bb96a61-776a-453f-bdd5-d5c1b8d4c25a"
      },
      "outputs": [
        {
          "output_type": "stream",
          "name": "stdout",
          "text": [
            "torch.Size([6, 20, 20])\n",
            "torch.Size([2400])\n",
            "torch.Size([2400])\n"
          ]
        }
      ],
      "source": [
        "# Іноді вам захочеться змінити форму тензора більш радикально, зберігаючи при цьому кількість елементів та їхній вміст.\n",
        "# Один випадок, коли це відбувається, – це межа згорткового шару моделі та лінійного шару моделі. Це поширене явище в моделях класифікації зображень.\n",
        "\n",
        "# Ядро згортки дасть вихідний тензор розмірністю [характеристики x ширина x висота], але наступний лінійний шар очікує одновимірного входу.\n",
        "# Одновимірний результат можна отримати за допомогою операції reshape() за умови, що виміри, які ви хочете отримати, дають таку саму кількість елементів, яку має вхідний тензор:\n",
        "\n",
        "output3d = torch.rand(6, 20, 20)\n",
        "print(output3d.shape)\n",
        "\n",
        "input1d = output3d.reshape(6 * 20 * 20)\n",
        "print(input1d.shape)\n",
        "\n",
        "# can also call it as a method on the torch module:\n",
        "print(torch.reshape(output3d, (6 * 20 * 20,)).shape)\n",
        "# Аргумент (6 * 20 * 20,) у останньому рядку комірки вище пояснюється тим, що PyTorch очікує кортеж, коли вказує форму тензора, але коли форма є першим аргументом методу.\n",
        "# Це дозволяє нам «шахраювати» та з легкістю використовувати ряд цілих чисел.\n",
        "# Тут нам довелося додати дужки та кому, щоб переконати метод, що це дійсно одноелементний кортеж.\n",
        "\n",
        "# Якщо це можливо, reshape() поверне вигляд (view) тензора, який потрібно змінити, тобто окремий об’єкт тензора, що дивиться на ту саму базову область пам’яті.\n",
        "# Це означає, що будь-які зміни, внесені до вихідного тензора, будуть відображені в поданні цього тензора, якщо ви не використаєте метод clone() для створення окремої копії."
      ]
    },
    {
      "cell_type": "markdown",
      "source": [
        "## Cuda routines"
      ],
      "metadata": {
        "id": "sPO-5WYUn-JG"
      },
      "id": "sPO-5WYUn-JG"
    },
    {
      "cell_type": "code",
      "execution_count": null,
      "id": "177825b5",
      "metadata": {
        "id": "177825b5"
      },
      "outputs": [],
      "source": [
        "# We move our tensor to the GPU if available\n",
        "if torch.cuda.is_available():\n",
        "    tensor = tensor.to(\"cuda\")"
      ]
    },
    {
      "cell_type": "code",
      "source": [
        "# practical aspects\n",
        "# CPU-GPU interactions\n",
        "\n",
        "torch.set_default_device(\"cuda\")\n",
        "# model and optimizer are automatically on cuda\n",
        "# data are preprocessed to tensor on each batch step and deleted from cuda after iteration\n",
        "# cleaning cuda\n",
        "gc.collect()\n",
        "torch.cuda.empty_cache()\n",
        "# reset model\n",
        "del globals()['model']\n"
      ],
      "metadata": {
        "id": "9yA5Rqm1i9-y"
      },
      "id": "9yA5Rqm1i9-y",
      "execution_count": null,
      "outputs": []
    },
    {
      "cell_type": "markdown",
      "id": "69b5a77e",
      "metadata": {
        "id": "69b5a77e"
      },
      "source": [
        "# Logistic regression with PyTorch"
      ]
    },
    {
      "cell_type": "code",
      "execution_count": null,
      "id": "b44f0d95",
      "metadata": {
        "colab": {
          "base_uri": "https://localhost:8080/"
        },
        "id": "b44f0d95",
        "outputId": "7a1cf39b-c0a9-4a3a-d748-98a48c174821"
      },
      "outputs": [
        {
          "output_type": "stream",
          "name": "stdout",
          "text": [
            "Mounted at /content/drive\n"
          ]
        }
      ],
      "source": [
        "# Побудуємо нейрону мережу, яку ми розбирали минулої теми, засобами PyTorch.\n",
        "import numpy as np\n",
        "import pandas as pd\n",
        "\n",
        "from sklearn.impute import SimpleImputer\n",
        "from sklearn.model_selection import train_test_split\n",
        "from sklearn.metrics import accuracy_score\n",
        "\n",
        "# Імпортуємо основні блоки, з яких можна будувати нейронну мережу: https://pytorch.org/docs/stable/nn.html\n",
        "import torch\n",
        "import torch.nn as nn\n",
        "import torch.optim as optim\n",
        "\n",
        "import warnings\n",
        "# filter warnings\n",
        "warnings.filterwarnings('ignore')\n",
        "\n",
        "from google.colab import drive\n",
        "drive.mount('/content/drive')"
      ]
    },
    {
      "cell_type": "markdown",
      "id": "999b0937",
      "metadata": {
        "id": "999b0937"
      },
      "source": [
        "## Data Procesing"
      ]
    },
    {
      "cell_type": "code",
      "execution_count": null,
      "id": "e9aff79e",
      "metadata": {
        "id": "e9aff79e"
      },
      "outputs": [],
      "source": [
        "# Reading data\n",
        "\n",
        "df = pd.read_csv('/content/drive/MyDrive/GoIT/MD NN/data/Module_1_Lecture_2_Class_Spaceship_Titanic.csv')\n",
        "df = df.set_index('PassengerId')\n",
        "\n",
        "TARGET = 'Transported'\n",
        "FEATURES = [col for col in df.columns if col != TARGET]"
      ]
    },
    {
      "cell_type": "code",
      "execution_count": null,
      "id": "9bccf63c",
      "metadata": {
        "id": "9bccf63c"
      },
      "outputs": [],
      "source": [
        "imputer_cols = [\"Age\", \"FoodCourt\", \"ShoppingMall\", \"Spa\", \"VRDeck\" ,\"RoomService\"]\n",
        "imputer = SimpleImputer(strategy='median')\n",
        "imputer.fit(df[imputer_cols])\n",
        "df[imputer_cols] = imputer.transform(df[imputer_cols])\n",
        "\n",
        "df[\"HomePlanet\"].fillna('Gallifrey', inplace=True)\n",
        "df[\"Destination\"].fillna('Skaro', inplace=True)\n",
        "\n",
        "df['CryoSleep_is_missing'] = df['CryoSleep'].isna().astype(int)\n",
        "df['VIP_is_missing'] = df['VIP'].isna().astype(int)\n",
        "\n",
        "df[\"CryoSleep\"].fillna(False, inplace=True)\n",
        "df[\"VIP\"].fillna(False, inplace=True)\n",
        "\n",
        "df[\"CryoSleep\"] = df[\"CryoSleep\"].astype(int)\n",
        "df[\"VIP\"] = df[\"VIP\"].astype(int)\n",
        "\n",
        "dummies = pd.get_dummies(df.loc[:, ['HomePlanet', 'Destination']], dtype=int)\n",
        "\n",
        "df = pd.concat([df, dummies], axis=1)\n",
        "df.drop(columns=['HomePlanet', 'Destination'], inplace=True)\n",
        "\n",
        "df[TARGET] = df[TARGET].astype(int)\n",
        "\n",
        "df.drop([\"Name\" ,\"Cabin\"] , axis=1 ,inplace = True)"
      ]
    },
    {
      "cell_type": "code",
      "execution_count": null,
      "id": "df2f819b",
      "metadata": {
        "id": "df2f819b"
      },
      "outputs": [],
      "source": [
        "# Train/test split\n",
        "\n",
        "X = df.drop(TARGET , axis =1 ).values\n",
        "y = df[TARGET].values\n",
        "\n",
        "X_train , X_test , y_train , y_test = train_test_split(X, y, random_state = 42, test_size =0.33, stratify=y)"
      ]
    },
    {
      "cell_type": "code",
      "execution_count": null,
      "id": "56fa8686",
      "metadata": {
        "id": "56fa8686"
      },
      "outputs": [],
      "source": [
        "# Convert numpy arrays to PyTorch tensors\n",
        "X_train = torch.tensor(X_train, dtype=torch.float32)\n",
        "y_train = torch.tensor(y_train, dtype=torch.float32)\n",
        "\n",
        "X_test = torch.tensor(X_test, dtype=torch.float32)\n",
        "y_test = torch.tensor(y_test, dtype=torch.float32)"
      ]
    },
    {
      "cell_type": "markdown",
      "id": "972487f9",
      "metadata": {
        "id": "972487f9"
      },
      "source": [
        "## Layers use-cases"
      ]
    },
    {
      "cell_type": "code",
      "execution_count": null,
      "id": "fd3ec933",
      "metadata": {
        "colab": {
          "base_uri": "https://localhost:8080/"
        },
        "id": "fd3ec933",
        "outputId": "127406a5-d3e8-41f5-807d-086925610ec9"
      },
      "outputs": [
        {
          "output_type": "stream",
          "name": "stdout",
          "text": [
            "Input:\n",
            "tensor([[-1.7147,  0.7230, -1.0887, -1.8443, -0.3506],\n",
            "        [ 0.6184, -0.8416,  1.1644, -0.0788, -1.2134],\n",
            "        [-0.9177, -1.2127, -0.7783, -0.2389,  0.2970],\n",
            "        [-0.5581, -0.0832, -1.2347,  0.1729, -0.9737]])\n",
            "shape torch.Size([4, 5])\n",
            "\n",
            "Output:\n",
            "tensor([[-0.3624, -0.0827, -0.4546],\n",
            "        [-0.1828,  0.8314,  0.0186],\n",
            "        [ 0.2619, -0.2953,  0.7269],\n",
            "        [ 0.3132, -0.2962,  0.1374]], grad_fn=<AddmmBackward0>)\n",
            "shape torch.Size([4, 3])\n"
          ]
        }
      ],
      "source": [
        "# Лінійний шар (linear layer)\n",
        "# Ініціалізувати ваги w та виконати лінійну трансформацію z=wTX+b в PyTorch можна викликом одного шару: torch.nn.Linear.\n",
        "# torch.nn.Linear(in_features, out_features, bias=True, device=None, dtype=None)\n",
        "\n",
        "# Основні параметри шару:\n",
        "#   - in_features (int) – розмір кожного вхідного зразка (input sample);\n",
        "#   - out_features (int) – розмір кожного вихідного зразка (output sample);\n",
        "#   - bias (bool) – якщо встановлено False, шар не вивчатиме значення зміщення (за замовчуванням True).\n",
        "# Ваги моделі wT  розмірності [out_features,in_features] ініціалізуються з рівномірного розподілу U(sqrt(−k)​, sqrt(k)), де k=1/in_features\n",
        "# Зміщення b розмірності out_features ініціалізується так само.\n",
        "\n",
        "m = nn.Linear(5, 3)\n",
        "input = torch.randn(4, 5)\n",
        "output = m(input)\n",
        "\n",
        "print('Input:', input, f'shape {input.shape}', sep='\\n')\n",
        "print('\\nOutput:', output, f'shape {output.shape}', sep='\\n')"
      ]
    },
    {
      "cell_type": "markdown",
      "source": [
        "Лінійний шар m приймає на вхід матрицю X розмірністю [кількість вхідних значень, 5]. Тут кількість вхідних значень може бути будь-яким числом, а кількість ознак в матриці X визначено при ініціації шару першим аргументом.\n",
        "\n",
        "Відповідно матриця X, що зберігається у змінній input, має розмірність 4 рядки (значення) та 5 стовпців (ознаки).\n",
        "\n",
        "Матриця X проходить через лінійний шар, де множиться на матрицю ваг wT.\n",
        "\n",
        "Матриця w має розмірність [3, 5], відповідно wT має розмірність [5, 3].\n",
        "\n",
        "До отриманого результату розмірності [4, 3] додається вектор зміщення b розмірності [3]. Після чого маємо фінальний результат розмірності [4, 3].\n",
        "\n",
        "Функція активації\n",
        "Сигмоіда — це наша функція активації, реалізована в PyTorch як torch.sigmoid."
      ],
      "metadata": {
        "id": "fD2de5-OgJQa"
      },
      "id": "fD2de5-OgJQa"
    },
    {
      "cell_type": "markdown",
      "source": [
        "![image.png](data:image/png;base64,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)"
      ],
      "metadata": {
        "id": "iy3KQmAYgk1o"
      },
      "id": "iy3KQmAYgk1o"
    },
    {
      "cell_type": "markdown",
      "source": [
        "torch.sigmoid(*input*, *, *out=None)\n",
        "Параметри\n",
        "  - input (Tensor) – вхідний тензор;\n",
        "  - out (Tensor, необов’язково) – вихідний тензор. Вихідним тензором може бути заздалегідь створений об’єкт torch.tensor, в який буде збережено результат розрахунку.\n",
        "\n",
        "Дана функція розраховує значення за формулою y= 1/1+e−z."
      ],
      "metadata": {
        "id": "uOrCzVLcgqID"
      },
      "id": "uOrCzVLcgqID"
    },
    {
      "cell_type": "code",
      "execution_count": null,
      "id": "8d7a3351",
      "metadata": {
        "colab": {
          "base_uri": "https://localhost:8080/"
        },
        "id": "8d7a3351",
        "outputId": "b13a0f6c-3e47-46a5-ddc7-123c5b3e4694"
      },
      "outputs": [
        {
          "output_type": "stream",
          "name": "stdout",
          "text": [
            "Input:  tensor([-2.3622, -0.0953, -0.4675, -0.7296])\n",
            "Applying sigmoid:  tensor([0.0861, 0.4762, 0.3852, 0.3253])\n"
          ]
        }
      ],
      "source": [
        "t = torch.randn(4)\n",
        "print('Input: ', t)\n",
        "print('Applying sigmoid: ', torch.sigmoid(t))\n",
        "# Переконуємося, що після застосування сигмоїди усі змінні прийняли значення в діапазоні [0; 1]"
      ]
    },
    {
      "cell_type": "markdown",
      "id": "69f0ac3c",
      "metadata": {
        "id": "69f0ac3c"
      },
      "source": [
        "## Model"
      ]
    },
    {
      "cell_type": "markdown",
      "source": [
        "Перейдемо безпосередньо до створення моделі.\n",
        "\n",
        "Модель (нейронна мережа) визначається в PyTorch за допомогою наслідування від базового класу nn.Module.\n",
        "\n",
        "В методі __init__ визначаються шари, які будуть використані в моделі.\n",
        "\n",
        "Обов’язковим для створення є метод forward. В ньому описується весь хід прямого розповсюдження.\n",
        "\n",
        "Зворотне розповсюдження виконується практично автоматично. Про нього піде розмова трохи далі.\n",
        "\n",
        "Визначимо клас логістичної регресії."
      ],
      "metadata": {
        "id": "0Qxtb7FjhDK4"
      },
      "id": "0Qxtb7FjhDK4"
    },
    {
      "cell_type": "code",
      "execution_count": null,
      "id": "6fdc1c78",
      "metadata": {
        "id": "6fdc1c78"
      },
      "outputs": [],
      "source": [
        "# Define the logistic regression model\n",
        "\n",
        "class LogisticRegression(nn.Module):\n",
        "    def __init__(self, input_dim):\n",
        "        super(LogisticRegression, self).__init__()\n",
        "        self.linear = nn.Linear(input_dim, 1)\n",
        "        self.sigmoid = nn.Sigmoid()\n",
        "\n",
        "    def forward(self, x):\n",
        "        out = self.linear(x)\n",
        "        out = self.sigmoid(out)\n",
        "        return out\n",
        "\n",
        "# Оскільки ми вирішуємо задачу бінарної класифікації, нам достатньо тільки одного виходу лінійного шару (другий аргумент nn.Linear).\n",
        "# Якби ми вирішували задачу багатокласової класифікації, кількість вихідних нейронів дорівнювала б кількості класів, які ми передбачаємо."
      ]
    },
    {
      "cell_type": "code",
      "execution_count": null,
      "id": "56bfdd66",
      "metadata": {
        "id": "56bfdd66"
      },
      "outputs": [],
      "source": [
        "# Продовжуємо використовувати дані, отримані в минулій темі.\n",
        "# У ноутбуці до поточної теми є окремий блок із завантаженням та обробкою даних на випадок, якщо ви починаєте вивчення цієї теми з чистого ноутбука.\n",
        "\n",
        "# Instantiate the model (Створимо екземпляр (instance) нашої моделі.)\n",
        "input_dim = X_train.shape[1]\n",
        "model = LogisticRegression(input_dim)\n",
        "\n",
        "# Define loss function and optimizer\n",
        "# (Визначаємо функцію втрат. Модуль nn містить в собі реалізовані функції втрат, в тому числі binary cross-entropy.)\n",
        "criterion = nn.BCELoss()\n",
        "# Окремо визначаємо оптимізатор.\n",
        "# Оптимізатор — це об’єкт, який виконує оптимізацію заданого набору параметрів, щоб мінімізувати функцію втрат під час процесу навчання.\n",
        "# Саме цей об’єкт відповідальний за розрахунок градієнтів та оновлення ваг.\n",
        "optimizer = optim.SGD(model.parameters(), lr=0.001)\n",
        "# Даний оптимізатор імплементує алгоритм стохастичного градієнтного спуску. Детальніше про реалізацію даного алгоритму можна прочитати на сторінці PyTorch."
      ]
    },
    {
      "cell_type": "code",
      "execution_count": null,
      "id": "73da337b",
      "metadata": {
        "colab": {
          "base_uri": "https://localhost:8080/",
          "height": 434
        },
        "id": "73da337b",
        "outputId": "7fc08f71-b5a0-4d61-a496-42c184ae5418"
      },
      "outputs": [
        {
          "output_type": "execute_result",
          "data": {
            "text/plain": [
              "<bound method Module.parameters of LogisticRegression(\n",
              "  (linear): Linear(in_features=18, out_features=1, bias=True)\n",
              "  (sigmoid): Sigmoid()\n",
              ")>"
            ],
            "text/html": [
              "<div style=\"max-width:800px; border: 1px solid var(--colab-border-color);\"><style>\n",
              "      pre.function-repr-contents {\n",
              "        overflow-x: auto;\n",
              "        padding: 8px 12px;\n",
              "        max-height: 500px;\n",
              "      }\n",
              "\n",
              "      pre.function-repr-contents.function-repr-contents-collapsed {\n",
              "        cursor: pointer;\n",
              "        max-height: 100px;\n",
              "      }\n",
              "    </style>\n",
              "    <pre style=\"white-space: initial; background:\n",
              "         var(--colab-secondary-surface-color); padding: 8px 12px;\n",
              "         border-bottom: 1px solid var(--colab-border-color);\"><b>torch.nn.modules.module.Module.parameters</b><br/>def parameters(recurse: bool=True) -&gt; Iterator[Parameter]</pre><pre class=\"function-repr-contents function-repr-contents-collapsed\" style=\"\"><a class=\"filepath\" style=\"display:none\" href=\"#\">/usr/local/lib/python3.10/dist-packages/torch/nn/modules/module.py</a>Return an iterator over module parameters.\n",
              "\n",
              "This is typically passed to an optimizer.\n",
              "\n",
              "Args:\n",
              "    recurse (bool): if True, then yields parameters of this module\n",
              "        and all submodules. Otherwise, yields only parameters that\n",
              "        are direct members of this module.\n",
              "\n",
              "Yields:\n",
              "    Parameter: module parameter\n",
              "\n",
              "Example::\n",
              "\n",
              "    &gt;&gt;&gt; # xdoctest: +SKIP(&quot;undefined vars&quot;)\n",
              "    &gt;&gt;&gt; for param in model.parameters():\n",
              "    &gt;&gt;&gt;     print(type(param), param.size())\n",
              "    &lt;class &#x27;torch.Tensor&#x27;&gt; (20L,)\n",
              "    &lt;class &#x27;torch.Tensor&#x27;&gt; (20L, 1L, 5L, 5L)</pre>\n",
              "      <script>\n",
              "      if (google.colab.kernel.accessAllowed && google.colab.files && google.colab.files.view) {\n",
              "        for (const element of document.querySelectorAll('.filepath')) {\n",
              "          element.style.display = 'block'\n",
              "          element.onclick = (event) => {\n",
              "            event.preventDefault();\n",
              "            event.stopPropagation();\n",
              "            google.colab.files.view(element.textContent, 2233);\n",
              "          };\n",
              "        }\n",
              "      }\n",
              "      for (const element of document.querySelectorAll('.function-repr-contents')) {\n",
              "        element.onclick = (event) => {\n",
              "          event.preventDefault();\n",
              "          event.stopPropagation();\n",
              "          element.classList.toggle('function-repr-contents-collapsed');\n",
              "        };\n",
              "      }\n",
              "      </script>\n",
              "      </div>"
            ]
          },
          "metadata": {},
          "execution_count": 24
        }
      ],
      "source": [
        "# Ми передаємо наступні аргументи optim.SGD: параметри моделі\n",
        "#     - model.parameters\n",
        "model.parameters\n",
        "\n",
        "#     - швидкість навчання lr learning rate.\n",
        "# Нагадаємо, що швидкість навчання є гіперпараметром, який визначає розмір кроків, зроблених під час оптимізації.\n",
        "# Він контролює, наскільки ми коригуємо ваги нашої мережі щодо градієнта втрат.\n",
        "# Ключові моменти:\n",
        "#    - Якщо швидкість навчання надто велика (великий lr), алгоритм оптимізації може пропустити точку мінімуму функції втрат і не зійтися.\n",
        "#    - Якщо швидкість навчання надто мала, процес оптимізації може тривати занадто довго або застрягти на неоптимальному рішенні.\n",
        "#    - Швидкість навчання є гіперпараметром, який потрібно налаштовувати під час процесу навчання. Часто потрібно експериментувати,\n",
        "#         щоб знайти оптимальне значення для конкретної проблеми."
      ]
    },
    {
      "cell_type": "code",
      "execution_count": null,
      "id": "4c087851",
      "metadata": {
        "colab": {
          "base_uri": "https://localhost:8080/"
        },
        "id": "4c087851",
        "outputId": "be797aac-55db-426e-b76f-e890d43def94"
      },
      "outputs": [
        {
          "output_type": "stream",
          "name": "stdout",
          "text": [
            "Epoch [50/1000], Loss: 13.1716\n",
            "Epoch [100/1000], Loss: 10.5802\n",
            "Epoch [150/1000], Loss: 6.9151\n",
            "Epoch [200/1000], Loss: 6.7186\n",
            "Epoch [250/1000], Loss: 10.6229\n",
            "Epoch [300/1000], Loss: 10.3805\n",
            "Epoch [350/1000], Loss: 9.0771\n",
            "Epoch [400/1000], Loss: 11.7551\n",
            "Epoch [450/1000], Loss: 5.3225\n",
            "Epoch [500/1000], Loss: 9.1028\n",
            "Epoch [550/1000], Loss: 13.9416\n",
            "Epoch [600/1000], Loss: 10.7550\n",
            "Epoch [650/1000], Loss: 6.9020\n",
            "Epoch [700/1000], Loss: 10.9197\n",
            "Epoch [750/1000], Loss: 9.5650\n",
            "Epoch [800/1000], Loss: 5.4181\n",
            "Epoch [850/1000], Loss: 10.1670\n",
            "Epoch [900/1000], Loss: 5.5901\n",
            "Epoch [950/1000], Loss: 7.2358\n",
            "Epoch [1000/1000], Loss: 9.2351\n"
          ]
        }
      ],
      "source": [
        "# Train the model  (Фінально напишемо код самого тренування.)\n",
        "num_epochs = 1000\n",
        "model.train()\n",
        "for epoch in range(num_epochs):\n",
        "    # Forward pass\n",
        "    outputs = model(X_train)\n",
        "    loss = criterion(outputs.squeeze(), y_train)\n",
        "\n",
        "    # Backward pass and optimization\n",
        "    optimizer.zero_grad()\n",
        "    loss.backward()\n",
        "    optimizer.step()\n",
        "\n",
        "    if (epoch+1) % 50 == 0:\n",
        "        print(f'Epoch [{epoch+1}/{num_epochs}], Loss: {loss.item():.4f}')"
      ]
    },
    {
      "cell_type": "markdown",
      "source": [
        "Для кожної епохи (повне проходження всього навчального набору даних) передбачено виконання наступних дій:\n",
        "\n",
        "1. Розрахунок передбачання моделі y^ і збереження у змінну outputs.\n",
        "2. Розрахунок значення функції втрат і збереження у змінну loss.\n",
        "3. Використання optimizer.zero_grad() для очищення градієнтів усіх оптимізованих тензорів.\n",
        "💡 Під час зворотного поширення градієнти накопичуються в атрибутах .grad параметрів моделі. Тому необхідно очистити градієнти перед їх обчисленням для наступного батчу навчальних даних.\n",
        "Якщо не обнулити градієнти, градієнти з попереднього батчу накопичуватимуться з градієнтами, обчисленими з поточного батчу, що призведе до неправильного оновлення параметрів.\n",
        "4. Використання loss.backward() для обчислення градієнтів функції втрат відносно параметрів моделі.\n",
        "5. Використання optimizer.step() для оновлення параметрів моделі на основі градієнтів, обчислених під час bakpropagation.\n",
        "6. Друк значення функції втрат на кожному n-тому кроці для розуміння того, яким є поточний стан процесу тренування."
      ],
      "metadata": {
        "id": "kPuDecteibjm"
      },
      "id": "kPuDecteibjm"
    },
    {
      "cell_type": "code",
      "execution_count": null,
      "id": "5b495201",
      "metadata": {
        "colab": {
          "base_uri": "https://localhost:8080/"
        },
        "id": "5b495201",
        "outputId": "5c647f41-5a11-482e-accc-950e3aa50d66"
      },
      "outputs": [
        {
          "output_type": "execute_result",
          "data": {
            "text/plain": [
              "0.7615894039735099"
            ]
          },
          "metadata": {},
          "execution_count": 49
        }
      ],
      "source": [
        "# Test the model  (Протестуємо отриману модель).\n",
        "# Використаємо контекст torch.no_grad, щоб тимчасово вимкнути розрахунок градієнтів.)\n",
        "model.eval()\n",
        "with torch.no_grad():\n",
        "    y_pred = model(X_test).squeeze().numpy().round()\n",
        "\n",
        "accuracy_score(y_test, y_pred)\n",
        "\n",
        "# Отже, модель правильно прогнозує цільовий результат у практично 80% випадків.\n",
        "# Отриманий результат збігається з результатом, отриманим у попередній темі. Це очікувано, оскільки ми відтворили архітектуру, побудовану на NumPy, засобами PyTorch."
      ]
    },
    {
      "cell_type": "code",
      "source": [
        "with torch.no_grad():\n",
        "    y_pred = model(X_train).squeeze().numpy().round()\n",
        "\n",
        "accuracy_score(y_train, y_pred)"
      ],
      "metadata": {
        "colab": {
          "base_uri": "https://localhost:8080/"
        },
        "id": "dm75lxmXFDBd",
        "outputId": "25787435-453f-43bd-bc54-91fa85a96aeb"
      },
      "id": "dm75lxmXFDBd",
      "execution_count": null,
      "outputs": [
        {
          "output_type": "execute_result",
          "data": {
            "text/plain": [
              "0.7470810439560439"
            ]
          },
          "metadata": {},
          "execution_count": 50
        }
      ]
    }
  ],
  "metadata": {
    "kernelspec": {
      "display_name": "Python 3 (ipykernel)",
      "language": "python",
      "name": "python3"
    },
    "language_info": {
      "codemirror_mode": {
        "name": "ipython",
        "version": 3
      },
      "file_extension": ".py",
      "mimetype": "text/x-python",
      "name": "python",
      "nbconvert_exporter": "python",
      "pygments_lexer": "ipython3",
      "version": "3.10.12"
    },
    "toc": {
      "base_numbering": 1,
      "nav_menu": {
        "height": "396px",
        "width": "493px"
      },
      "number_sections": true,
      "sideBar": true,
      "skip_h1_title": false,
      "title_cell": "Table of Contents",
      "title_sidebar": "Contents",
      "toc_cell": false,
      "toc_position": {},
      "toc_section_display": true,
      "toc_window_display": false
    },
    "colab": {
      "provenance": []
    }
  },
  "nbformat": 4,
  "nbformat_minor": 5
}